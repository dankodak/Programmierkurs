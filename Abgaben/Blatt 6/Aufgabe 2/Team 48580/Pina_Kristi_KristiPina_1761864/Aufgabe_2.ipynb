{
 "cells": [
  {
   "cell_type": "code",
   "execution_count": 2,
   "metadata": {},
   "outputs": [
    {
     "name": "stdout",
     "output_type": "stream",
     "text": [
      "[array([  7.,  10.]), array([ 15.,  22.])]\n"
     ]
    }
   ],
   "source": [
    "import numpy as np\n",
    "\n",
    "def matrix_multiplikation(A, B):\n",
    "    l=0\n",
    "    C=[]\n",
    "    while l<=len(A)-1:\n",
    "        C.append(np.linspace(0, 0, len(A)))\n",
    "        l+=1\n",
    "    for i in range(len(A)):\n",
    "        for j in range(len(B[0])):\n",
    "            for k in range (len(B)):\n",
    "                C[i][j]+=A[i][k] * B[k][j]\n",
    "    return C\n",
    "A = [[1,2],[3,4]]\n",
    "B = A       \n",
    "print(matrix_multiplikation(A, B))"
   ]
  },
  {
   "cell_type": "code",
   "execution_count": 3,
   "metadata": {},
   "outputs": [
    {
     "name": "stdout",
     "output_type": "stream",
     "text": [
      "Time function:  1.0087149176070278\n",
      "Time numpy:  0.00022038241768704837\n"
     ]
    }
   ],
   "source": [
    "import time\n",
    "A = np.ones( (100,100) )\n",
    "B = A\n",
    "def time_it(func, m=10):\n",
    "    tstart = time.clock()\n",
    "    for t in range(m):\n",
    "        func()\n",
    "    return (time.clock() - tstart)/m\n",
    "def calc_numpy():\n",
    "    D = np.dot(A, A)\n",
    "    return D\n",
    "def matrix_mult():\n",
    "    F = matrix_multiplikation(A, B)\n",
    "    return F\n",
    "tstandard = time_it(matrix_mult)\n",
    "tnumpy = time_it(calc_numpy)\n",
    "print(\"Time function: \", tstandard)\n",
    "print(\"Time numpy: \", tnumpy)"
   ]
  },
  {
   "cell_type": "code",
   "execution_count": null,
   "metadata": {},
   "outputs": [],
   "source": []
  }
 ],
 "metadata": {
  "kernelspec": {
   "display_name": "Python 3",
   "language": "python",
   "name": "python3"
  },
  "language_info": {
   "codemirror_mode": {
    "name": "ipython",
    "version": 3
   },
   "file_extension": ".py",
   "mimetype": "text/x-python",
   "name": "python",
   "nbconvert_exporter": "python",
   "pygments_lexer": "ipython3",
   "version": "3.6.1"
  }
 },
 "nbformat": 4,
 "nbformat_minor": 2
}
