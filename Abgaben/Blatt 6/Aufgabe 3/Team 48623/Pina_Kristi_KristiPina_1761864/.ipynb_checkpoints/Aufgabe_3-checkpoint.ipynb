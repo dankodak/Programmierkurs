{
 "cells": [
  {
   "cell_type": "code",
   "execution_count": 1,
   "metadata": {},
   "outputs": [
    {
     "ename": "SyntaxError",
     "evalue": "invalid syntax (<ipython-input-1-9584d9c9fb7e>, line 12)",
     "output_type": "error",
     "traceback": [
      "\u001b[1;36m  File \u001b[1;32m\"<ipython-input-1-9584d9c9fb7e>\"\u001b[1;36m, line \u001b[1;32m12\u001b[0m\n\u001b[1;33m    for o in range(n):\u001b[0m\n\u001b[1;37m                     ^\u001b[0m\n\u001b[1;31mSyntaxError\u001b[0m\u001b[1;31m:\u001b[0m invalid syntax\n"
     ]
    }
   ],
   "source": [
    "import numpy as np\n",
    "import matplotlib.pyplot as plt\n",
    "n = int(input(\"Wie groß soll die nxn-Matrix sein?   n=\"))\n",
    "C=[]\n",
    "u_l=42\n",
    "u_r=10\n",
    "f0 = 200\n",
    "l = 0.5\n",
    "dx=l/(n-1)\n",
    "for t in range (n):\n",
    "    C.append(np.linspace(0, 0, n)\n",
    "for o in range(n):\n",
    "    if o==0:\n",
    "        C[o][o]=1\n",
    "    elif o==n-1:\n",
    "        C[o][o]=1\n",
    "    elif o>0 and o<n-1:\n",
    "        C[o][o-1]=-1\n",
    "        C[o][o]=2\n",
    "        C[o][o+1]=-1\n",
    "f=[]\n",
    "for h in range (n):\n",
    "    if h==0:\n",
    "        f.append(u_l)\n",
    "    elif h==n-1:\n",
    "        f.append(u_r)\n",
    "    else:\n",
    "        f.append((dx**2)*f0)\n",
    "u=np.linalg.solve(C,u)\n",
    "xi = i*dx\n",
    "for i in range (n):\n",
    "    plt.plot(u[i],xi)\n",
    "    plt.xlabel(\"x\")\n",
    "    plt.ylabel(\"u\")\n",
    "    plt.legend()\n",
    "    plt.show()\n",
    "print(C)\n",
    "print(f)\n",
    "print(u)"
   ]
  },
  {
   "cell_type": "code",
   "execution_count": null,
   "metadata": {},
   "outputs": [],
   "source": []
  },
  {
   "cell_type": "code",
   "execution_count": null,
   "metadata": {},
   "outputs": [],
   "source": []
  }
 ],
 "metadata": {
  "kernelspec": {
   "display_name": "Python 3",
   "language": "python",
   "name": "python3"
  }
 },
 "nbformat": 4,
 "nbformat_minor": 2
}
