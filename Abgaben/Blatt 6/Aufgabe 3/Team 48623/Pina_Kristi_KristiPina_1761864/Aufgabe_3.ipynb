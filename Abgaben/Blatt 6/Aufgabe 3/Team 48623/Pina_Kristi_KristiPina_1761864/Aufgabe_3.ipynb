{
 "cells": [
  {
   "cell_type": "code",
   "execution_count": 3,
   "metadata": {},
   "outputs": [
    {
     "ename": "SyntaxError",
     "evalue": "invalid syntax (<ipython-input-3-f78a6a73a555>, line 12)",
     "output_type": "error",
     "traceback": [
      "\u001b[0;36m  File \u001b[0;32m\"<ipython-input-3-f78a6a73a555>\"\u001b[0;36m, line \u001b[0;32m12\u001b[0m\n\u001b[0;31m    for o in range(n):\u001b[0m\n\u001b[0m                     ^\u001b[0m\n\u001b[0;31mSyntaxError\u001b[0m\u001b[0;31m:\u001b[0m invalid syntax\n"
     ]
    }
   ],
   "source": [
    "import numpy as np\n",
    "import matplotlib.pyplot as plt\n",
    "n = int(input(\"Wie groß soll die nxn-Matrix sein?   n=\"))\n",
    "C=[]\n",
    "u_l=42\n",
    "u_r=10\n",
    "f0 = 200\n",
    "l = 0.5\n",
    "dx=l/(n-1)\n",
    "for t in range (n):\n",
    "    C.append(np.linspace(0, 0, n)\n",
    "for o in range(n):\n",
    "    if o==0:\n",
    "        C[o][o]=1\n",
    "    elif o==n-1:\n",
    "        C[o][o]=1\n",
    "    elif o>0 and o<n-1:\n",
    "        C[o][o-1]=-1\n",
    "        C[o][o]=2\n",
    "        C[o][o+1]=-1\n",
    "f=[]\n",
    "for h in range (n):\n",
    "    if h==0:\n",
    "        f.append(u_l)\n",
    "    elif h==n-1:\n",
    "        f.append(u_r)\n",
    "    else:\n",
    "        f.append((dx**2)*f0)\n",
    "u=np.linalg.solve(C,u)\n",
    "xi = i*dx\n",
    "for i in range (n):\n",
    "    plt.plot(u[i],xi)\n",
    "    plt.xlabel(\"x\")\n",
    "    plt.ylabel(\"u\")\n",
    "    plt.legend()\n",
    "    plt.show()\n",
    "print(C)\n",
    "print(f)\n",
    "print(u)"
   ]
  },
  {
   "cell_type": "code",
   "execution_count": null,
   "metadata": {},
   "outputs": [],
   "source": []
  },
  {
   "cell_type": "code",
   "execution_count": null,
   "metadata": {},
   "outputs": [],
   "source": []
  }
 ],
 "metadata": {
  "kernelspec": {
   "display_name": "Python 3",
   "language": "python",
   "name": "python3"
  },
  "language_info": {
   "codemirror_mode": {
    "name": "ipython",
    "version": 3
   },
   "file_extension": ".py",
   "mimetype": "text/x-python",
   "name": "python",
   "nbconvert_exporter": "python",
   "pygments_lexer": "ipython3",
   "version": "3.4.2"
  }
 },
 "nbformat": 4,
 "nbformat_minor": 2
}
