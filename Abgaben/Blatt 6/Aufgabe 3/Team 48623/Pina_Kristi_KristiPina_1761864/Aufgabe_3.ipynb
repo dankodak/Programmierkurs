{
 "cells": [
  {
   "cell_type": "code",
   "execution_count": 4,
   "metadata": {},
   "outputs": [
    {
     "name": "stdout",
     "output_type": "stream",
     "text": [
      "Wie groß soll die nxn-Matrix sein?   n=100\n"
     ]
    },
    {
     "ename": "NameError",
     "evalue": "name 'u' is not defined",
     "output_type": "error",
     "traceback": [
      "\u001b[1;31m---------------------------------------------------------------------------\u001b[0m",
      "\u001b[1;31mNameError\u001b[0m                                 Traceback (most recent call last)",
      "\u001b[1;32m<ipython-input-4-d2dfa336586e>\u001b[0m in \u001b[0;36m<module>\u001b[1;34m()\u001b[0m\n\u001b[0;32m     27\u001b[0m     \u001b[1;32melse\u001b[0m\u001b[1;33m:\u001b[0m\u001b[1;33m\u001b[0m\u001b[0m\n\u001b[0;32m     28\u001b[0m         \u001b[0mf\u001b[0m\u001b[1;33m.\u001b[0m\u001b[0mappend\u001b[0m\u001b[1;33m(\u001b[0m\u001b[1;33m(\u001b[0m\u001b[0mdx\u001b[0m\u001b[1;33m**\u001b[0m\u001b[1;36m2\u001b[0m\u001b[1;33m)\u001b[0m\u001b[1;33m*\u001b[0m\u001b[0mf0\u001b[0m\u001b[1;33m)\u001b[0m\u001b[1;33m\u001b[0m\u001b[0m\n\u001b[1;32m---> 29\u001b[1;33m \u001b[0mu\u001b[0m\u001b[1;33m=\u001b[0m\u001b[0mnp\u001b[0m\u001b[1;33m.\u001b[0m\u001b[0mlinalg\u001b[0m\u001b[1;33m.\u001b[0m\u001b[0msolve\u001b[0m\u001b[1;33m(\u001b[0m\u001b[0mC\u001b[0m\u001b[1;33m,\u001b[0m\u001b[0mu\u001b[0m\u001b[1;33m)\u001b[0m\u001b[1;33m\u001b[0m\u001b[0m\n\u001b[0m\u001b[0;32m     30\u001b[0m \u001b[0mxi\u001b[0m \u001b[1;33m=\u001b[0m \u001b[0mi\u001b[0m\u001b[1;33m*\u001b[0m\u001b[0mdx\u001b[0m\u001b[1;33m\u001b[0m\u001b[0m\n\u001b[0;32m     31\u001b[0m \u001b[1;32mfor\u001b[0m \u001b[0mi\u001b[0m \u001b[1;32min\u001b[0m \u001b[0mrange\u001b[0m \u001b[1;33m(\u001b[0m\u001b[0mn\u001b[0m\u001b[1;33m)\u001b[0m\u001b[1;33m:\u001b[0m\u001b[1;33m\u001b[0m\u001b[0m\n",
      "\u001b[1;31mNameError\u001b[0m: name 'u' is not defined"
     ]
    }
   ],
   "source": [
    "import numpy as np\n",
    "import matplotlib.pyplot as plt\n",
    "n = int(input(\"Wie groß soll die nxn-Matrix sein?   n=\"))\n",
    "C=[]\n",
    "u_l=42\n",
    "u_r=10\n",
    "f0 = 200\n",
    "l = 0.5\n",
    "dx=l/(n-1)\n",
    "for t in range(n):\n",
    "    C.append(np.linspace(0, 0, n))\n",
    "for o in range(n):\n",
    "    if o==0:\n",
    "        C[o][o]=1\n",
    "    elif o==n-1:\n",
    "        C[o][o]=1\n",
    "    elif o>0 and o<n-1:\n",
    "        C[o][o-1]=-1\n",
    "        C[o][o]=2\n",
    "        C[o][o+1]=-1\n",
    "f=[]\n",
    "for h in range (n):\n",
    "    if h==0:\n",
    "        f.append(u_l)\n",
    "    elif h==n-1:\n",
    "        f.append(u_r)\n",
    "    else:\n",
    "        f.append((dx**2)*f0)\n",
    "u=np.linalg.solve(C,u)\n",
    "xi = i*dx\n",
    "for i in range (n):\n",
    "    plt.plot(u[i],xi)\n",
    "    plt.xlabel(\"x\")\n",
    "    plt.ylabel(\"u\")\n",
    "    plt.legend()\n",
    "    plt.show()\n",
    "print(C)\n",
    "print(f)\n",
    "print(u)"
   ]
  },
  {
   "cell_type": "code",
   "execution_count": null,
   "metadata": {},
   "outputs": [],
   "source": []
  },
  {
   "cell_type": "code",
   "execution_count": null,
   "metadata": {},
   "outputs": [],
   "source": []
  }
 ],
 "metadata": {
  "kernelspec": {
   "display_name": "Python 3",
   "language": "python",
   "name": "python3"
  }
 },
 "nbformat": 4,
 "nbformat_minor": 2
}
