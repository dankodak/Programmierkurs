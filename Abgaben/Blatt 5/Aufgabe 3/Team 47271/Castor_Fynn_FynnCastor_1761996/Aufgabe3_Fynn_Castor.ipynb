{
 "cells": [
  {
   "cell_type": "code",
   "execution_count": 1,
   "metadata": {},
   "outputs": [
    {
     "name": "stdout",
     "output_type": "stream",
     "text": [
      "    n | approx    | error\n",
      "    5 | 2.140e+00 | 1.400e-01 \n",
      "   10 | 2.160e+00 | 1.600e-01 \n",
      "   50 | 2.166e+00 | 1.664e-01 \n",
      "  100 | 2.167e+00 | 1.666e-01 \n",
      "\n",
      "\n",
      "    n | approx    | error\n",
      "    5 | 9.344e-02 | 2.399e-01 \n",
      "   10 | 9.834e-02 | 2.350e-01 \n",
      "   50 | 9.993e-02 | 2.334e-01 \n",
      "  100 | 9.998e-02 | 2.333e-01 \n",
      "\n",
      "\n",
      "    n | approx    | error\n",
      "    5 | 1.521e-01 | 1.848e+00 \n",
      "   10 | 1.996e-01 | 1.800e+00 \n",
      "   50 | 2.174e-01 | 1.783e+00 \n",
      "  100 | 2.180e-01 | 1.782e+00 \n",
      "\n",
      "\n",
      "    n | approx    | error\n",
      "    5 | 4.854e-01 | 4.854e-01 \n",
      "   10 | 1.271e+00 | 1.271e+00 \n",
      "   50 | 1.558e+00 | 1.558e+00 \n",
      "  100 | 1.568e+00 | 1.568e+00 \n",
      "\n",
      "\n"
     ]
    }
   ],
   "source": [
    "import math\n",
    "def trapecoidal_rule(f,a,b,n=100):\n",
    "    i=0\n",
    "    p=0\n",
    "    h=(b-a)/n\n",
    "    while i<n:\n",
    "        xi=i*h+a\n",
    "        xi1=(i+1)*h+a\n",
    "        p+=0.5*h*(f(xi)*f(xi1))\n",
    "        i+=1\n",
    "    return p \n",
    "\n",
    "\n",
    "def evaluate(f,a,b,n,I=\"not given\"):\n",
    "  \n",
    "    if I==\"not given\":\n",
    "        print(\"    n | approx \")\n",
    "        for i in n:\n",
    "            approx=trapecoidal_rule(f,a,b,i)\n",
    "            print(\"{:>5} | {:^10.3e}\".format(i,approx))\n",
    "        print(\"\\n\")\n",
    "    else:\n",
    "        print(\"    n | approx    | error\")\n",
    "        \n",
    "        for i in n:\n",
    "            \n",
    "            approx=trapecoidal_rule(f,a,b,i)\n",
    "            error=math.fabs(I-approx)\n",
    "            print(\"{:>5} |{:^11.3e}|{:^11.3e}\".format(i,approx,error))\n",
    "        print(\"\\n\")\n",
    "            \n",
    "\n",
    "def f1(x):\n",
    "    m=2*x+1\n",
    "    return m\n",
    "def f2(x):\n",
    "    m=x**2\n",
    "    return m\n",
    "def f3(x):\n",
    "    m=(2/3)*math.sin(x)**3\n",
    "    return m\n",
    "def f4(x):\n",
    "    m=math.cos(x)\n",
    "    return m\n",
    "          \n",
    "n=[5,10,50,100]\n",
    "evaluate(f1,0,1,n,2)\n",
    "evaluate(f2,0,1,n,(1/3))\n",
    "evaluate(f3,0,math.pi,n,2)\n",
    "evaluate(f4,0,2*math.pi,n,0)"
   ]
  },
  {
   "cell_type": "code",
   "execution_count": null,
   "metadata": {},
   "outputs": [],
   "source": []
  }
 ],
 "metadata": {
  "kernelspec": {
   "display_name": "Python 3",
   "language": "python",
   "name": "python3"
  },
  "language_info": {
   "codemirror_mode": {
    "name": "ipython",
    "version": 3
   },
   "file_extension": ".py",
   "mimetype": "text/x-python",
   "name": "python",
   "nbconvert_exporter": "python",
   "pygments_lexer": "ipython3",
   "version": "3.6.1"
  }
 },
 "nbformat": 4,
 "nbformat_minor": 2
}
