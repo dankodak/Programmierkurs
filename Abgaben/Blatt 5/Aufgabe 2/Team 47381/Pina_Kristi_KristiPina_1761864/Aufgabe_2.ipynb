{
 "cells": [
  {
   "cell_type": "code",
   "execution_count": 2,
   "metadata": {},
   "outputs": [],
   "source": [
    "import math\n",
    "\n",
    "\n",
    "\n",
    "class Polynomial:\n",
    "    global coeffizients\n",
    "    def __init__ (self, *args):\n",
    "        self._coeffizients=args\n",
    "        print (\"Die Liste der Koeffizienten:\", self._coeffizients)\n",
    "    \n",
    "    def __call__(self, x):\n",
    "        summe=0\n",
    "        a=0\n",
    "        for l in self._coeffizients:\n",
    "            summe += l*x**a\n",
    "            a += 1\n",
    "        return summe\n",
    "    def __str__(self):\n",
    "        counter=0\n",
    "        polynom=\"\"\n",
    "        add=\"\"\n",
    "        for i in self._coeffizients:\n",
    "            if counter ==0:\n",
    "                add=str(i)\n",
    "                polynom+=add\n",
    "            else:            \n",
    "                if i!=0:\n",
    "                    add=str(i)+\"*x^\"+str(counter)\n",
    "                    polynom=polynom+\"+\"+add\n",
    "                else:\n",
    "                    pass\n",
    "            counter+=1\n",
    "        return polynom\n",
    "    pass\n",
    "\n",
    "       \n",
    "               \n",
    "            \n",
    "            \n",
    "       \n",
    "        "
   ]
  },
  {
   "cell_type": "code",
   "execution_count": 3,
   "metadata": {},
   "outputs": [
    {
     "name": "stdout",
     "output_type": "stream",
     "text": [
      "Die Liste der Koeffizienten: (1, 0, 3)\n",
      "p(0) = 1\n",
      "p(1) = 4\n",
      "1+3*x^2\n"
     ]
    }
   ],
   "source": [
    "# Polynom 1 + 3x^2\n",
    "p = Polynomial(1, 0, 3)\n",
    "print(\"p(0) =\", p(0)) # es sollte 1 erscheinen\n",
    "print(\"p(1) =\", p(1)) # es sollte 4 erscheinen\n",
    "print(p) # es sollte die Ausgabe 1 + 3*x^2 erscheinen "
   ]
  },
  {
   "cell_type": "code",
   "execution_count": 4,
   "metadata": {},
   "outputs": [
    {
     "name": "stdout",
     "output_type": "stream",
     "text": [
      "Die Liste der Koeffizienten: (0, 1)\n",
      "0+1*x^1\n"
     ]
    }
   ],
   "source": [
    "p = Polynomial(0, 1)\n",
    "print(p)\n"
   ]
  },
  {
   "cell_type": "code",
   "execution_count": null,
   "metadata": {},
   "outputs": [],
   "source": []
  },
  {
   "cell_type": "code",
   "execution_count": null,
   "metadata": {},
   "outputs": [],
   "source": []
  }
 ],
 "metadata": {
  "kernelspec": {
   "display_name": "Python 3",
   "language": "python",
   "name": "python3"
  },
  "language_info": {
   "codemirror_mode": {
    "name": "ipython",
    "version": 3
   },
   "file_extension": ".py",
   "mimetype": "text/x-python",
   "name": "python",
   "nbconvert_exporter": "python",
   "pygments_lexer": "ipython3",
   "version": "3.6.1"
  }
 },
 "nbformat": 4,
 "nbformat_minor": 2
}
