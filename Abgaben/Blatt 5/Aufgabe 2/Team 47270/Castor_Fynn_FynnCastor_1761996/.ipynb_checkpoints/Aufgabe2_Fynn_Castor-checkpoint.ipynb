{
 "cells": [
  {
   "cell_type": "code",
   "execution_count": 11,
   "metadata": {},
   "outputs": [
    {
     "name": "stdout",
     "output_type": "stream",
     "text": [
      "5\n",
      "1+2*x^1+2*x^2\n"
     ]
    }
   ],
   "source": [
    "class polynomial:\n",
    "    \n",
    "    def __init__(self,*args):\n",
    "        _coef=[]\n",
    "        for i in args:\n",
    "            _coef.append(i)\n",
    "        self.coef=_coef\n",
    "    \n",
    "    def __call__(self,x):\n",
    "        exp=0\n",
    "        f=0\n",
    "        _coef=self.coef\n",
    "        for i in _coef:\n",
    "            f+=i*(x**exp)\n",
    "            exp+=1\n",
    "        return f\n",
    "    \n",
    "    def __str__(self):\n",
    "        _coef=self.coef\n",
    "        m=str(_coef[0])\n",
    "        exp=1\n",
    "        for i in _coef[1:]:\n",
    "            if i<0:\n",
    "                m+=(\"{}*x^{}\".format(i,exp))\n",
    "            elif i>0:\n",
    "                m+=(\"+{}*x^{}\".format(i,exp))\n",
    "            exp+=1\n",
    "        return m\n",
    "        \n",
    "p=polynomial(1,2,2) \n",
    "print(p(-2))\n",
    "print(p)"
   ]
  }
 ],
 "metadata": {
  "kernelspec": {
   "display_name": "Python 3",
   "language": "python",
   "name": "python3"
  },
  "language_info": {
   "codemirror_mode": {
    "name": "ipython",
    "version": 3
   },
   "file_extension": ".py",
   "mimetype": "text/x-python",
   "name": "python",
   "nbconvert_exporter": "python",
   "pygments_lexer": "ipython3",
   "version": "3.6.1"
  }
 },
 "nbformat": 4,
 "nbformat_minor": 2
}
