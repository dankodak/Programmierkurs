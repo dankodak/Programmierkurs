{
 "cells": [
  {
   "cell_type": "code",
   "execution_count": 22,
   "metadata": {},
   "outputs": [
    {
     "name": "stdout",
     "output_type": "stream",
     "text": [
      "Geben sie ihr Datum ein:13.12.2017\n",
      "Mittwoch\n"
     ]
    }
   ],
   "source": [
    "import calendar\n",
    "date = input(\"Geben sie ihr Datum ein:\")\n",
    "def day1(date):\n",
    "    day = int(date[:2])\n",
    "    month = int(date[3:5])\n",
    "    year = int(date[6:])\n",
    "    Tag = calendar.weekday(year,month,day)\n",
    "    listtage = [\"Montag\",\"Dienstag\",\"Mittwoch\",\"Donnerstag\",\"Freitag\",\"Samstag\",\"Sonntag\"]\n",
    "    \n",
    "    return listtage[Tag]\n",
    "    \n",
    "\n",
    "print (day1(date))\n"
   ]
  },
  {
   "cell_type": "code",
   "execution_count": null,
   "metadata": {},
   "outputs": [],
   "source": []
  },
  {
   "cell_type": "code",
   "execution_count": null,
   "metadata": {},
   "outputs": [],
   "source": []
  }
 ],
 "metadata": {
  "kernelspec": {
   "display_name": "Python 3",
   "language": "python",
   "name": "python3"
  },
  "language_info": {
   "codemirror_mode": {
    "name": "ipython",
    "version": 3
   },
   "file_extension": ".py",
   "mimetype": "text/x-python",
   "name": "python",
   "nbconvert_exporter": "python",
   "pygments_lexer": "ipython3",
   "version": "3.4.2"
  }
 },
 "nbformat": 4,
 "nbformat_minor": 2
}
