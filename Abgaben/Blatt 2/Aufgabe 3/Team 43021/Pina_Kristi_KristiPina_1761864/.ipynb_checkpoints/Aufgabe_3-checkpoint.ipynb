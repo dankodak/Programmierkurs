{
 "cells": [
  {
   "cell_type": "code",
   "execution_count": 1,
   "metadata": {},
   "outputs": [
    {
     "name": "stdout",
     "output_type": "stream",
     "text": [
      "Wie viele Schritte wollen Sie untersuchen:10\n",
      "n= 10\n",
      "  N    |  Fehler a)   |  Fehler b)   |  Fehler c) \n",
      "  1    | 8.584073e-01 | 3.225090e-01 | 8.259320e-03\n",
      "  2    | 4.749260e-01 | 6.239122e-02 | 1.701872e-04\n",
      "  3    | 3.250740e-01 | 1.458882e-02 | 5.263243e-06\n",
      "  4    | 2.463546e-01 | 3.739762e-03 | 1.960224e-07\n",
      "  5    | 1.980899e-01 | 1.012092e-03 | 8.129457e-09\n",
      "  6    | 1.655465e-01 | 2.838681e-04 | 3.617053e-10\n",
      "  7    | 1.421458e-01 | 8.165911e-05 | 1.691225e-11\n",
      "  8    | 1.245208e-01 | 2.393765e-05 | 8.202328e-13\n",
      "  9    | 1.107733e-01 | 7.120222e-06 | 4.085621e-14\n",
      "  10   | 9.975303e-02 | 2.142652e-06 | 1.776357e-15\n"
     ]
    }
   ],
   "source": [
    "import math\n",
    "n = int(input(\"Wie viele Schritte wollen Sie untersuchen:\"))\n",
    "if n<=0:\n",
    "    print(\"bitte geben Sie eine natürliche Zahl ein!\")\n",
    "else:\n",
    "    print(\"n=\",n)\n",
    "a = math.pi\n",
    "liste1=[]\n",
    "liste2=[]\n",
    "liste3=[]\n",
    "i = 0\n",
    "print(\"{:^{}}\".format(\"N\",len(bin(n)))+\" | \"+\" Fehler a)  \"+\" | \"+\" Fehler b)  \"+\" | \"+\" Fehler c) \")\n",
    "while i<n:\n",
    "    si = (4*((-1)**i))/((2*i)+1)\n",
    "    liste1.append(si)\n",
    "    b=sum(liste1)\n",
    "    fehler = math.fabs(b-a)\n",
    "    fehler_ausgabe = str(\"{:e}\".format(fehler))\n",
    "  \n",
    "\n",
    "    sk = ((2*(-1)**i)*3**(1/2-i))/(2*i+1)\n",
    "    liste2.append(sk)\n",
    "    c=sum(liste2)\n",
    "    fehler1=math.fabs(c-a)\n",
    "    fehler1_ausgabe = str(\"{:e}\".format(fehler1))\n",
    "\n",
    "\n",
    "    sl = (1/(16**i))*((4/(8*i+1))-(2/(8*i+4))-(1/(8*i+5))-(1/(8*i+6)))\n",
    "    liste3.append(sl)\n",
    "    d=sum(liste3)\n",
    "    fehler2=math.fabs(d-a)\n",
    "    fehler2_ausgabe = str(\"{:e}\".format(fehler2))\n",
    "\n",
    "\n",
    "\n",
    "\n",
    "\n",
    "\n",
    "    print(\"{:^{}}\".format(i+1,len(bin(n)))+\" | \"+fehler_ausgabe+\" | \"+fehler1_ausgabe+\" | \"+fehler2_ausgabe)\n",
    "    i+=1"
   ]
  },
  {
   "cell_type": "code",
   "execution_count": null,
   "metadata": {},
   "outputs": [],
   "source": [
    "\n"
   ]
  },
  {
   "cell_type": "code",
   "execution_count": null,
   "metadata": {},
   "outputs": [],
   "source": []
  }
 ],
 "metadata": {
  "kernelspec": {
   "display_name": "Python 3",
   "language": "python",
   "name": "python3"
  },
  "language_info": {
   "codemirror_mode": {
    "name": "ipython",
    "version": 3
   },
   "file_extension": ".py",
   "mimetype": "text/x-python",
   "name": "python",
   "nbconvert_exporter": "python",
   "pygments_lexer": "ipython3",
   "version": "3.6.1"
  }
 },
 "nbformat": 4,
 "nbformat_minor": 2
}
