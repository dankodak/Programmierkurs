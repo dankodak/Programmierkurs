{
 "cells": [
  {
   "cell_type": "code",
   "execution_count": 2,
   "metadata": {},
   "outputs": [
    {
     "name": "stdout",
     "output_type": "stream",
     "text": [
      "Eingabe von n: 11\n",
      "N | Fehler a) | Fehler b) | Fehler c)\n",
      "0 | 8.58e-01 | 3.23e-01 | 8.26e-03\n",
      "1 | 4.47e+00 | 4.30e+00 | 3.13e+00\n",
      "2 | 2.34e+00 | 2.76e+00 | 3.14e+00\n",
      "3 | 3.71e+00 | 3.27e+00 | 3.14e+00\n",
      "4 | 2.70e+00 | 3.10e+00 | 3.14e+00\n",
      "5 | 3.51e+00 | 3.16e+00 | 3.14e+00\n",
      "6 | 2.83e+00 | 3.14e+00 | 3.14e+00\n",
      "7 | 3.41e+00 | 3.14e+00 | 3.14e+00\n",
      "8 | 2.91e+00 | 3.14e+00 | 3.14e+00\n",
      "9 | 3.35e+00 | 3.14e+00 | 3.14e+00\n",
      "10 | 2.95e+00 | 3.14e+00 | 3.14e+00\n"
     ]
    }
   ],
   "source": [
    "#Pi-Approximation\n",
    "import math\n",
    "n = int(input(\"Eingabe von n: \")) \n",
    "i = 0\n",
    "print(\"N | Fehler a) | Fehler b) | Fehler c)\") \n",
    "for i in range(1,n):\n",
    "    s1 = (4*(-1)**i)/(2*i+1)\n",
    "\n",
    "    s2 = 2*((-1)**i)*3**1/2-i\n",
    "\n",
    "    s3 = 1/16**i*(4/(8*i+1)-2/(8*i+4)-1/(8*i+5)-1/(8*i+6))\n",
    "\n",
    "#muss ich 4 von 8 Übungen richtig haben oder muss ich 50% von alle Pflicht-Aufgaben richtig haben um den Kurs zu bestehen?\n",
    "for i in range(0,n):\n",
    "#a)\n",
    "    s1 = (4*(-1)**i)/(2*i+1)\n",
    "    x1 = math.fabs(s1 - math.pi)\n",
    "#b)\n",
    "    s2 = 2*((-1)**i)*3**(1/2-i)\n",
    "    x2 = math.fabs(s2 - math.pi)\n",
    "#c)\n",
    "    s3 = 1/16**i*(4/(8*i+1)-2/(8*i+4)-1/(8*i+5)-1/(8*i+6))\n",
    "    x3 = math.fabs(s3 - math.pi) \n",
    "    print(i,'|', \"{:.2e}\".format(x1),'|',\"{:.2e}\".format(x2),'|', \"{:.2e}\".format(x3))"
   ]
  },
  {
   "cell_type": "code",
   "execution_count": null,
   "metadata": {
    "collapsed": true
   },
   "outputs": [],
   "source": []
  }
 ],
 "metadata": {
  "kernelspec": {
   "display_name": "Python 3",
   "language": "python",
   "name": "python3"
  },
  "language_info": {
   "codemirror_mode": {
    "name": "ipython",
    "version": 3
   },
   "file_extension": ".py",
   "mimetype": "text/x-python",
   "name": "python",
   "nbconvert_exporter": "python",
   "pygments_lexer": "ipython3",
   "version": "3.6.1"
  }
 },
 "nbformat": 4,
 "nbformat_minor": 2
}
