{
 "cells": [
  {
   "cell_type": "markdown",
   "metadata": {},
   "source": [
    "Aufgabe 3: pi - Approximation"
   ]
  },
  {
   "cell_type": "code",
   "execution_count": 1,
   "metadata": {},
   "outputs": [
    {
     "name": "stdout",
     "output_type": "stream",
     "text": [
      "Wähle eine positive ganzzahlige Schranke N =  10\n",
      "Der jeweilige Fehler der Approximation bis n = N+1 ist gegeben durch: \n",
      "| N | Fehler a)| Fehler b)| Fehler c)|\n",
      "--------------------------------------\n",
      "| 1 | 8.58e-01 | 3.23e-01 | 8.26e-03 |\n",
      "| 2 | 4.75e-01 | 6.24e-02 | 1.70e-04 |\n",
      "| 3 | 3.25e-01 | 1.46e-02 | 5.26e-06 |\n",
      "| 4 | 2.46e-01 | 3.74e-03 | 1.96e-07 |\n",
      "| 5 | 1.98e-01 | 1.01e-03 | 8.13e-09 |\n",
      "| 6 | 1.66e-01 | 2.84e-04 | 3.62e-10 |\n",
      "| 7 | 1.42e-01 | 8.17e-05 | 1.69e-11 |\n",
      "| 8 | 1.25e-01 | 2.39e-05 | 8.20e-13 |\n",
      "| 9 | 1.11e-01 | 7.12e-06 | 4.09e-14 |\n",
      "|10 | 9.98e-02 | 2.14e-06 | 1.78e-15 |\n",
      "|11 | 9.07e-02 | 6.51e-07 | 0.00e+00 |\n"
     ]
    }
   ],
   "source": [
    "import math\n",
    "\n",
    "list_a = [] # Liste mit der Werten der nach Formel a) berechneten Summanden.\n",
    "list_b = [] # Liste mit den Werten der nach Formel b) berechneten Summanden.\n",
    "list_c = [] # Liste mit den Werten der nach Formel c) berechneten Summanden.\n",
    "\n",
    "while True: # Validiere die Eingabe für N.\n",
    "    N = int(input(\"Wähle eine positive ganzzahlige Schranke N =  \"))\n",
    "    if N >= 1:\n",
    "        break\n",
    "    print(\"Dies ist keine positive ganze Zahl.\")\n",
    "\n",
    "print(\"Der jeweilige Fehler der Approximation bis n = N+1 ist gegeben durch: \")\n",
    "print(\"|{:^3}|\".format(str(\"N\")) + \"{:>10}|\".format(str(\"Fehler a)\")) + \"{:>10}|\".format(str(\"Fehler b)\")) + \"{:>10}|\".format(str(\"Fehler c)\")) )\n",
    "print(\"-\"*38)\n",
    "\n",
    "n = 1\n",
    "while n <= N+1: # D.h. n = 1,..., N+1.\n",
    "    for i in range (n-1, n): # Fügt jeweils einen Summanden nach Formel a), b) bzw. c) zur Liste hinzu.\n",
    "        a_i = 4*(((-1)**i)/(2*i + 1)) # Summand nach Formel a).\n",
    "        b_i = (((2*(-1)**i)*((3)**((1/2)-i)))/(2*i +1)) # Summand nach Formel b).\n",
    "        c_i = (1/(16**i))*((4/(8*i +1)) - (2/(8*i +4)) - (1/(8*i +5)) - (1/(8*i +6))) # Summand nach Formel c):\n",
    "        list_a.append(a_i)\n",
    "        list_b.append(b_i)\n",
    "        list_c.append(c_i)\n",
    "    \n",
    "    api_n = sum(list_a) # Entspricht der Summe der s_i in a) für i = 0,...,n-1, also pi_(n-1) in a).\n",
    "    bpi_n = sum(list_b) # Entspricht der Summe der s_i in b) für i = 0,...,n-1, also pi_(n-1) in b).\n",
    "    cpi_n = sum(list_c) # Entspricht der Summe der s_i in c) für i = 0,...,n-1, also pi_(n-1) in c).\n",
    "    \n",
    "    print(\"|{:^3}|\".format(n) + \"{:^10.2e}|\".format(abs((api_n) - math.pi)) + \"{:^10.2e}|\".format(abs((bpi_n) - math.pi)) + \"{:^10.2e}|\".format(abs((cpi_n)-math.pi)))\n",
    "    # Ausgabe des jeweiligen Fehlers |(Summe über i von s_i) - pi| für i = 0,...,n.\n",
    "    n = n+1\n",
    "    \n",
    "    "
   ]
  }
 ],
 "metadata": {
  "kernelspec": {
   "display_name": "Python 3",
   "language": "python",
   "name": "python3"
  },
  "language_info": {
   "codemirror_mode": {
    "name": "ipython",
    "version": 3
   },
   "file_extension": ".py",
   "mimetype": "text/x-python",
   "name": "python",
   "nbconvert_exporter": "python",
   "pygments_lexer": "ipython3",
   "version": "3.6.1"
  }
 },
 "nbformat": 4,
 "nbformat_minor": 2
}
