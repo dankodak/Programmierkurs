{
 "cells": [
  {
   "cell_type": "code",
   "execution_count": null,
   "metadata": {},
   "outputs": [],
   "source": [
    "import math\n",
    "N=int(input(\"N=\"))\n",
    "\n",
    "i=0\n",
    "lista=[]\n",
    "listb=[]\n",
    "listc=[]\n",
    "länge=len(str(N))\n",
    "print(\"{:>{}} | Fehlera) | Fehlerb) | Fehlerc) \".format(\"N\",länge))\n",
    "\n",
    "while i<N:\n",
    "    sia=4*(((-1)**i)/(2*i+1))\n",
    "    sib=(2*(-1)**i*3**(0.5-i))/(2*i+1)\n",
    "    sic=(1/(16**i))*(4/(8*i+1)-2/(8*i+4)-1/(8*i+5)-1/(8*i+6))\n",
    "    lista.append(sia)\n",
    "    listb.append(sib)\n",
    "    listc.append(sic)\n",
    "    Näherunga=0\n",
    "    Näherungb=0\n",
    "    Näherungc=0\n",
    "    \n",
    "    for k in lista:\n",
    "        Näherunga+=k\n",
    "        Fehlera=math.fabs(Näherunga-math.pi)\n",
    "    for k in listb:\n",
    "        Näherungb+=k\n",
    "        Fehlerb=math.fabs(Näherungb-math.pi)\n",
    "    for k in listc:\n",
    "        Näherungc+=k\n",
    "    Fehlerc=math.fabs(Näherungc-math.pi)\n",
    "    print(\"{:>{}} |{:^10.2e}|{:^10.2e}|{:^10.2e}\".format(i+1,länge,Fehlera,Fehlerb,Fehlerc,))\n",
    "   \n",
    "        \n",
    "    i+=1\n"
   ]
  }
 ],
 "metadata": {
  "kernelspec": {
   "display_name": "Python 3",
   "language": "python",
   "name": "python3"
  },
  "language_info": {
   "codemirror_mode": {
    "name": "ipython",
    "version": 3
   },
   "file_extension": ".py",
   "mimetype": "text/x-python",
   "name": "python",
   "nbconvert_exporter": "python",
   "pygments_lexer": "ipython3",
   "version": "3.4.2"
  }
 },
 "nbformat": 4,
 "nbformat_minor": 2
}
