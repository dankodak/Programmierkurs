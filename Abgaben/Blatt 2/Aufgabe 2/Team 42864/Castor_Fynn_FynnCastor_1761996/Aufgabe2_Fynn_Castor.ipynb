{
 "cells": [
  {
   "cell_type": "code",
   "execution_count": null,
   "metadata": {},
   "outputs": [],
   "source": [
    "a=float(input(\"a=\"))\n",
    "b=float(input(\"b=\"))\n",
    "k=0\n",
    "\n",
    "while k<2:\n",
    "    print()\n",
    "    k=0\n",
    "    \n",
    "    if a%1==0:\n",
    "            k+=1\n",
    "    if a>=0:\n",
    "            k+=1\n",
    "    if k<2:\n",
    "        n=float(input(\"Achtung! \\nBitte geben sie einen positiven ganzzahligen Wert für a ein: a=\" ))\n",
    "\n",
    "k=0\n",
    "while k<2:\n",
    "    print()\n",
    "    k=0\n",
    "    \n",
    "    if b%1==0:\n",
    "            k+=1\n",
    "    if b>0:\n",
    "            k+=1\n",
    "    if k<2:\n",
    "        n=float(input(\"Achtung! \\nBitte geben sie einen positiven ganzzahligen Wert für b ein: b=\" ))\n",
    "n=a\n",
    "k=b\n",
    "if a*b==0:\n",
    "    print(\"ggT({},{})=0\".format(int(a),int(b)))\n",
    "else:\n",
    "    while b!=0:\n",
    "        if a>b:\n",
    "            a=a-b\n",
    "        else:\n",
    "            b=b-a\n",
    "        \n",
    "print(\"ggT({},{})=\".format(int(n),int(k))+str(int(a)))  "
   ]
  }
 ],
 "metadata": {
  "kernelspec": {
   "display_name": "Python 3",
   "language": "python",
   "name": "python3"
  },
  "language_info": {
   "codemirror_mode": {
    "name": "ipython",
    "version": 3
   },
   "file_extension": ".py",
   "mimetype": "text/x-python",
   "name": "python",
   "nbconvert_exporter": "python",
   "pygments_lexer": "ipython3",
   "version": "3.4.2"
  }
 },
 "nbformat": 4,
 "nbformat_minor": 2
}
