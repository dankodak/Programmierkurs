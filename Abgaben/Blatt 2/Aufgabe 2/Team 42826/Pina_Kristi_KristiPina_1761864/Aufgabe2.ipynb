{
 "cells": [
  {
   "cell_type": "code",
   "execution_count": 10,
   "metadata": {},
   "outputs": [
    {
     "name": "stdout",
     "output_type": "stream",
     "text": [
      "Erste Zahl,die Sie versuchen möchten:7\n",
      "Die Zweite:49\n",
      "ggT(a,b) ist 7\n"
     ]
    }
   ],
   "source": [
    "a=int(input(\"Erste Zahl,die Sie versuchen möchten:\"))\n",
    "b=int(input(\"Die Zweite:\"))\n",
    "a1=[]\n",
    "b1=[]\n",
    "for i in range(1,a+1):\n",
    "    if a%i==0:\n",
    "        a1.append(i)\n",
    "        \n",
    "for k in range(1,b+1):\n",
    "    if b%k==0:\n",
    "        b1.append(k)\n",
    "\n",
    "    set1=set(a1)\n",
    "    set2=set(b1)\n",
    "print(\"ggT(a,b) ist\",max(set1.intersection(b1)))"
   ]
  },
  {
   "cell_type": "code",
   "execution_count": null,
   "metadata": {},
   "outputs": [],
   "source": []
  },
  {
   "cell_type": "code",
   "execution_count": null,
   "metadata": {},
   "outputs": [],
   "source": []
  }
 ],
 "metadata": {
  "kernelspec": {
   "display_name": "Python 3",
   "language": "python",
   "name": "python3"
  },
  "language_info": {
   "codemirror_mode": {
    "name": "ipython",
    "version": 3
   },
   "file_extension": ".py",
   "mimetype": "text/x-python",
   "name": "python",
   "nbconvert_exporter": "python",
   "pygments_lexer": "ipython3",
   "version": "3.4.2"
  }
 },
 "nbformat": 4,
 "nbformat_minor": 2
}
