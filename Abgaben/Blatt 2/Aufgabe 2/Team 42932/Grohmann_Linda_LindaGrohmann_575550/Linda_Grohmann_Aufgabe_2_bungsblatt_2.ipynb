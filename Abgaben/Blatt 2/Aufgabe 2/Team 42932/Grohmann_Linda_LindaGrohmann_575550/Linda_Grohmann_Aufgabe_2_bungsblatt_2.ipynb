{
 "cells": [
  {
   "cell_type": "markdown",
   "metadata": {},
   "source": [
    "Aufgabe 2: Euklidischer Algorithmus"
   ]
  },
  {
   "cell_type": "code",
   "execution_count": null,
   "metadata": {},
   "outputs": [],
   "source": [
    "while True: # Eingabe validieren: Der ggT soll für nichtnegative ganze Zahlen berechnet werden.\n",
    "    a = int(input(\"Bitte die erste natürliche Zahl eingeben: \"))\n",
    "    b = int(input(\"Bitte die zweite natürliche Zahl eingeben: \"))\n",
    "    if a >= 0 and b >= 0:\n",
    "        break\n",
    "    \n",
    "    print(\"Mindestens eine der Zahlen ist nicht natürlich oder Null. Bitte nochmal versuchen!\") \n",
    "    # Falls die Bedingung nicht a,b >= 0 nicht erfüllt ist, müssen neue Zahlen eingegeben werden.\n",
    "\n",
    "print(\"a = \", a, \"und b = \", b, \" sind natürliche Zahlen.\")\n",
    "\n",
    "if a == 0:\n",
    "    print(\"ggT(a,b) = {}\" .format(b)) \n",
    "    # Da jede ganze Zahl b Teiler der Null ist, gilt ggT(a,b) = b für a == 0. \n",
    "    # Falls auch b = 0, ist ggT(a,b) = 0, denn die Null teilt keine von Null verschiedene Zahl.\n",
    "    \n",
    "while b != 0:\n",
    "    if a > b: \n",
    "        a = a - b\n",
    "    else: \n",
    "        b = b - a\n",
    "print(\"Der gemeinsame größte Teiler ist {}.\" .format(a))        "
   ]
  }
 ],
 "metadata": {
  "kernelspec": {
   "display_name": "Python 3",
   "language": "python",
   "name": "python3"
  },
  "language_info": {
   "codemirror_mode": {
    "name": "ipython",
    "version": 3
   },
   "file_extension": ".py",
   "mimetype": "text/x-python",
   "name": "python",
   "nbconvert_exporter": "python",
   "pygments_lexer": "ipython3",
   "version": "3.6.3"
  }
 },
 "nbformat": 4,
 "nbformat_minor": 2
}
