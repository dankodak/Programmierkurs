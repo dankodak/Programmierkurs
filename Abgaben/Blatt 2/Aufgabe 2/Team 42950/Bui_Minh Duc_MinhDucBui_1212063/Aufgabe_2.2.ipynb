{
 "cells": [
  {
   "cell_type": "code",
   "execution_count": 5,
   "metadata": {},
   "outputs": [
    {
     "name": "stdout",
     "output_type": "stream",
     "text": [
      "Wert für x: 30\n",
      "Wert für y: 45\n",
      "15\n"
     ]
    }
   ],
   "source": [
    "#Euklidischer Algorythmus\n",
    "def ggt(a, b):\n",
    "    if b == 0:\n",
    "        return a\n",
    "\n",
    "    return ggt(b, a % b)\n",
    "\n",
    "x = int(input('Wert für x: '))\n",
    "\n",
    "y = int(input('Wert für y: '))\n",
    "if __name__ == '__main__':\n",
    "    print(ggt(x, y))\n",
    "#ich habe __name__ und __main__ im Internet aufgeschnappt. Ich verstehe es aber nicht richtig was es bedeutet."
   ]
  },
  {
   "cell_type": "code",
   "execution_count": 6,
   "metadata": {},
   "outputs": [
    {
     "name": "stdout",
     "output_type": "stream",
     "text": [
      "Wert für x: 12345\n",
      "Wert für y: 54321\n",
      "3\n"
     ]
    }
   ],
   "source": [
    "def ggt(a, b):  \n",
    "    if b > a:\n",
    "        if b % a == 0:\n",
    "            return a\n",
    "        else:\n",
    "            return ggt(b % a, a)\n",
    "    else:\n",
    "        if a % b == 0:\n",
    "            return b\n",
    "        else:\n",
    "            return ggt(b, a % b) \n",
    "        \n",
    "x = int(input('Wert für x: '))\n",
    "y = int(input('Wert für y: '))\n",
    "print(ggt(x, y))        "
   ]
  },
  {
   "cell_type": "code",
   "execution_count": null,
   "metadata": {
    "collapsed": true
   },
   "outputs": [],
   "source": []
  }
 ],
 "metadata": {
  "kernelspec": {
   "display_name": "Python 3",
   "language": "python",
   "name": "python3"
  },
  "language_info": {
   "codemirror_mode": {
    "name": "ipython",
    "version": 3
   },
   "file_extension": ".py",
   "mimetype": "text/x-python",
   "name": "python",
   "nbconvert_exporter": "python",
   "pygments_lexer": "ipython3",
   "version": "3.6.2"
  }
 },
 "nbformat": 4,
 "nbformat_minor": 2
}
