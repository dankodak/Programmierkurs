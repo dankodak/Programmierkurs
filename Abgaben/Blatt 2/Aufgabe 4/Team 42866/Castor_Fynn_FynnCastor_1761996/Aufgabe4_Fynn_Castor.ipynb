{
 "cells": [
  {
   "cell_type": "code",
   "execution_count": 3,
   "metadata": {},
   "outputs": [
    {
     "name": "stdout",
     "output_type": "stream",
     "text": [
      "n=1000\n",
      "NäherungPi=3.15200\n",
      "Fehler=0.01041\n"
     ]
    }
   ],
   "source": [
    "import random\n",
    "import math\n",
    "n=float(input(\"n=\"))\n",
    "k=0\n",
    "while k<2:\n",
    "    k=0\n",
    "    \n",
    "    if n%1==0:\n",
    "        \n",
    "            k+=1\n",
    "    if n>0:\n",
    "            k+=1\n",
    "    if k<2:\n",
    "        n=float(input(\"\\nAchtung! \\nBitte geben sie einen positiven ganzzahligen Wert für n ein: n=\" ))\n",
    "p=0\n",
    "for i in range(0,int(n)):\n",
    "    x=random.random()\n",
    "    y=random.random()\n",
    "    m=x**2+y**2\n",
    "    if m<=1:\n",
    "        p+=1\n",
    "näherungpi=4*p/n\n",
    "Fehler=math.fabs(näherungpi-math.pi)\n",
    "print(\"NäherungPi={:.5f}\".format(näherungpi))\n",
    "print(\"Fehler={:.5f}\".format(Fehler))"
   ]
  }
 ],
 "metadata": {
  "kernelspec": {
   "display_name": "Python 3",
   "language": "python",
   "name": "python3"
  },
  "language_info": {
   "codemirror_mode": {
    "name": "ipython",
    "version": 3
   },
   "file_extension": ".py",
   "mimetype": "text/x-python",
   "name": "python",
   "nbconvert_exporter": "python",
   "pygments_lexer": "ipython3",
   "version": "3.6.1"
  }
 },
 "nbformat": 4,
 "nbformat_minor": 2
}
