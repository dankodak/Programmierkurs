{
 "cells": [
  {
   "cell_type": "markdown",
   "metadata": {},
   "source": [
    "Aufgabe 1: Statistische Analyse von Messdaten"
   ]
  },
  {
   "cell_type": "code",
   "execution_count": null,
   "metadata": {},
   "outputs": [],
   "source": [
    "import math\n",
    "while True: # Eingabe validieren: Nur für eine Anzahl n >=1 von Messdaten ist die Auswertung überhaupt sinnvoll. \n",
    "            # Nichtganze Zahlen werden durch \"int\" ausgeschlossen.\n",
    "    n = int(input(\"Bitte eine positive ganze Zahl eingeben: n = \"))\n",
    "    if n >= 1:\n",
    "        break    \n",
    "    print(\"Dies ist keine positive ganze Zahl. Bitte nochmal versuchen!\")\n",
    "\n",
    "print(\"Eingabe der Messdaten x_i für i = 1, ... n :\")\n",
    "list_1 = [] # Liste der Messdaten:\n",
    "i = 1\n",
    "while i <= n:\n",
    "    x_i = float(input(\"Messdatum x_{}: \".format(i)))\n",
    "    list_1.append(x_i) \n",
    "    i = i+1\n",
    "print(\"Die Liste der Messdaten ist: \", list_1)\n",
    "\n",
    "list_2 = [] # Liste der (x_i - arithmetisches Mittel)^2:\n",
    "i = 1\n",
    "while i <= n:\n",
    "    s_i= (list_1[i-1] - ((1/n)*(sum(list_1))))**2\n",
    "    list_2.append(s_i)\n",
    "    i = i+1\n",
    "\n",
    "# Arithmetisches Mittel:\n",
    "x = (1/n)*(sum(list_1))\n",
    "    \n",
    "# Varianz:\n",
    "sigma2 = (1/n)*(sum(list_2))\n",
    "\n",
    "# Standardabweichung:\n",
    "s = math.sqrt(sigma2)\n",
    "\n",
    "print(\"Das arithmetische Mittel x der Messdaten ist gegeben durch {}.\".format(x))\n",
    "print(\"Die Varianz ist gegeben durch {}.\" .format(sigma2))\n",
    "print(\"Die Standardabweichung ist gegeben durch {}.\" .format(s))\n"
   ]
  }
 ],
 "metadata": {
  "kernelspec": {
   "display_name": "Python 3",
   "language": "python",
   "name": "python3"
  },
  "language_info": {
   "codemirror_mode": {
    "name": "ipython",
    "version": 3
   },
   "file_extension": ".py",
   "mimetype": "text/x-python",
   "name": "python",
   "nbconvert_exporter": "python",
   "pygments_lexer": "ipython3",
   "version": "3.6.3"
  }
 },
 "nbformat": 4,
 "nbformat_minor": 2
}
