{
 "cells": [
  {
   "cell_type": "code",
   "execution_count": null,
   "metadata": {},
   "outputs": [],
   "source": [
    "n=float(input(\"Geben sie die Anzahl der Messdaten ein: n=\"))\n",
    "\n",
    "\n",
    "k=0\n",
    "while k<2:\n",
    "    print()\n",
    "    k=0\n",
    "    \n",
    "    if n%1==0:\n",
    "            k+=1\n",
    "    if n>0:\n",
    "            k+=1\n",
    "    if k<2:\n",
    "        n=float(input(\"Achtung! \\nBitte geben sie einen positiven ganzzahligen Wert für n ein: n=\" ))\n",
    "\n",
    "j=1\n",
    "list1=[]\n",
    "AM=0\n",
    "Varianz=0\n",
    "while j<=n:\n",
    "    M=float(input(\"M{}=\".format(j))) \n",
    "    list1.append(M)\n",
    "    j+=1\n",
    "\n",
    "for i in list1:\n",
    "    AM+=(1/n)*i\n",
    "for i in list1:\n",
    "    Varianz+=(1/n)*(i-AM)**2\n",
    "Standardabweichung= Varianz**(1/2)\n",
    "\n",
    "print()    \n",
    "print(\"Arithmethisches Mittel: x = {:<.5f}\".format(AM))\n",
    "print(\"Varianz:                Q²= {:<.5f}\".format(Varianz))\n",
    "print(\"Standardabweichung:     Q = {:<.5f}\".format( Standardabweichung))"
   ]
  }
 ],
 "metadata": {
  "kernelspec": {
   "display_name": "Python 3",
   "language": "python",
   "name": "python3"
  },
  "language_info": {
   "codemirror_mode": {
    "name": "ipython",
    "version": 3
   },
   "file_extension": ".py",
   "mimetype": "text/x-python",
   "name": "python",
   "nbconvert_exporter": "python",
   "pygments_lexer": "ipython3",
   "version": "3.6.1"
  }
 },
 "nbformat": 4,
 "nbformat_minor": 2
}
