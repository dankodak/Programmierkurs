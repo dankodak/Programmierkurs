{
 "cells": [
  {
   "cell_type": "code",
   "execution_count": 32,
   "metadata": {},
   "outputs": [
    {
     "name": "stdout",
     "output_type": "stream",
     "text": [
      "Wie viele Messdaten wollen Sie analysieren?: 7\n",
      "n= 7\n"
     ]
    }
   ],
   "source": [
    "n = int(input(\"Wie viele Messdaten wollen Sie analysieren?: \"))\n",
    "\n",
    "if n<=0:\n",
    "    print(\"Bitte geben Sie eine natürliche Zahl ein!\")\n",
    "    \n",
    "else:\n",
    "    print(\"n=\",n)"
   ]
  },
  {
   "cell_type": "code",
   "execution_count": 33,
   "metadata": {},
   "outputs": [
    {
     "name": "stdout",
     "output_type": "stream",
     "text": [
      "Geben Sie die 1. Messdatei ein!5\n",
      "Geben Sie die 2. Messdatei ein!9\n",
      "Geben Sie die 3. Messdatei ein!4\n",
      "Geben Sie die 4. Messdatei ein!87\n",
      "Geben Sie die 5. Messdatei ein!7.3\n",
      "Geben Sie die 6. Messdatei ein!2.7\n",
      "Geben Sie die 7. Messdatei ein!8.1\n",
      "[5.0, 9.0, 4.0, 87.0, 7.3, 2.7, 8.1]\n"
     ]
    }
   ],
   "source": [
    "messdatei_x = []\n",
    "i = 1\n",
    "for i in range(1,n+1):\n",
    "    x = float(input(\"Geben Sie die {}. Messdatei ein!\".format(i)))\n",
    "    messdatei_x.append(x)\n",
    "    i += 1\n",
    "    \n",
    "print(messdatei_x)"
   ]
  },
  {
   "cell_type": "code",
   "execution_count": 34,
   "metadata": {},
   "outputs": [
    {
     "name": "stdout",
     "output_type": "stream",
     "text": [
      "Arithmetische Mittel ist gleich 17.585714285714285\n"
     ]
    }
   ],
   "source": [
    "ar_mittel = sum(messdatei_x) / n\n",
    "print(\"Arithmetische Mittel ist gleich {}\".format(ar_mittel))\n"
   ]
  },
  {
   "cell_type": "code",
   "execution_count": 35,
   "metadata": {},
   "outputs": [
    {
     "name": "stdout",
     "output_type": "stream",
     "text": [
      "Varianz ist gleich 807.484081632653\n"
     ]
    }
   ],
   "source": [
    "\n",
    "liste1 = []\n",
    "b=0\n",
    "for b in range(0,n):\n",
    "    liste1.append((messdatei_x[b]-ar_mittel)**2)\n",
    "    b += 1\n",
    "varianz = sum(liste1)/n\n",
    "print(\"Varianz ist gleich\",varianz)"
   ]
  },
  {
   "cell_type": "code",
   "execution_count": 36,
   "metadata": {},
   "outputs": [
    {
     "name": "stdout",
     "output_type": "stream",
     "text": [
      "Standartabweichung ist gleich 28.416264385605878\n"
     ]
    }
   ],
   "source": [
    "import math\n",
    "s_abweich = math.sqrt(varianz)\n",
    "print(\"Standartabweichung ist gleich\",s_abweich)"
   ]
  },
  {
   "cell_type": "code",
   "execution_count": null,
   "metadata": {},
   "outputs": [],
   "source": []
  }
 ],
 "metadata": {
  "kernelspec": {
   "display_name": "Python 3",
   "language": "python",
   "name": "python3"
  },
  "language_info": {
   "codemirror_mode": {
    "name": "ipython",
    "version": 3
   },
   "file_extension": ".py",
   "mimetype": "text/x-python",
   "name": "python",
   "nbconvert_exporter": "python",
   "pygments_lexer": "ipython3",
   "version": "3.4.2"
  }
 },
 "nbformat": 4,
 "nbformat_minor": 2
}
