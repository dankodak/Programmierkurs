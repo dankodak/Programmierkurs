{
 "cells": [
  {
   "cell_type": "markdown",
   "metadata": {},
   "source": [
    "Aufgabe 2: Pascalsches Dreieck durch Rekursion"
   ]
  },
  {
   "cell_type": "code",
   "execution_count": 1,
   "metadata": {},
   "outputs": [
    {
     "name": "stdout",
     "output_type": "stream",
     "text": [
      "Bitte die Nummer der anzuzeigenden Stufe des Pascalschen Dreiecks eingeben: n = 10\n",
      "[1, 9, 36, 84, 126, 126, 84, 36, 9, 1]\n"
     ]
    }
   ],
   "source": [
    "while True: # Eingabe der Reihennummer der anzuzeigenden Reihe validieren\n",
    "    n = int(input(\"Bitte die Nummer der anzuzeigenden Stufe des Pascalschen Dreiecks eingeben: n = \"))\n",
    "    if n >= 1:\n",
    "        break\n",
    "    print(\"Für diese Zahl existiert keine Stufe des Pascalschen Dreiecks. Bitte positive ganze Zahl angeben!\")\n",
    "\n",
    "def pascal(n):\n",
    "    if n == 1:\n",
    "        return [1]\n",
    "    else:\n",
    "        neue_Stufe = [1]\n",
    "        letzte_Stufe = pascal(n-1) \n",
    "        for i in range(len(letzte_Stufe)-1):\n",
    "            neue_Stufe.append(letzte_Stufe[i] + letzte_Stufe[i+1]) # Addiert jeweils zwei aufeinanderfolgende Elemente\n",
    "                                                                   # (ab dem 2. bis zum vorletzten) der alten Liste\n",
    "                                                                   # und fügt die Summen zur neuen Liste hinzu.\n",
    "        neue_Stufe.append(letzte_Stufe[-1]) # Fügt der neuen Liste das letzte Element der alten Liste hinzu.\n",
    "    return neue_Stufe \n",
    "print(pascal(n)) # Gibt die n-te Stufe des Pascalschen Dreiecks aus."
   ]
  }
 ],
 "metadata": {
  "kernelspec": {
   "display_name": "Python 3",
   "language": "python",
   "name": "python3"
  },
  "language_info": {
   "codemirror_mode": {
    "name": "ipython",
    "version": 3
   },
   "file_extension": ".py",
   "mimetype": "text/x-python",
   "name": "python",
   "nbconvert_exporter": "python",
   "pygments_lexer": "ipython3",
   "version": "3.6.1"
  }
 },
 "nbformat": 4,
 "nbformat_minor": 2
}
