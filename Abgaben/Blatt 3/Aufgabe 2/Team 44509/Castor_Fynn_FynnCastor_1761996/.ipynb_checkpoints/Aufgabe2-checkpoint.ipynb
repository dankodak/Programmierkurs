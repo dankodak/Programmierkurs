{
 "cells": [
  {
   "cell_type": "code",
   "execution_count": 1,
   "metadata": {},
   "outputs": [
    {
     "name": "stdout",
     "output_type": "stream",
     "text": [
      "n=10\n",
      "[1, 9, 36, 84, 126, 126, 84, 36, 9, 1]\n"
     ]
    }
   ],
   "source": [
    "import copy\n",
    "n=int(input(\"n=\"))\n",
    "\n",
    "if n==1:\n",
    "    list1=[1]\n",
    "    print(list1)\n",
    "    \n",
    "if n==2:\n",
    "    list1=[1,1]\n",
    "    print(list1)\n",
    "    \n",
    "k=3\n",
    "list1=[1,1]\n",
    "while k<=n:\n",
    "    i=2 \n",
    "    list2=[1,1]\n",
    "    \n",
    "    while i<k:\n",
    "        j=list1[i-2]+list1[i-1]\n",
    "        list2.insert(i-1,j)\n",
    "        i+=1\n",
    "        \n",
    "    list1=copy.deepcopy(list2)\n",
    "    k+=1\n",
    "    \n",
    "print(list1)"
   ]
  }
 ],
 "metadata": {
  "kernelspec": {
   "display_name": "Python 3",
   "language": "python",
   "name": "python3"
  },
  "language_info": {
   "codemirror_mode": {
    "name": "ipython",
    "version": 3
   },
   "file_extension": ".py",
   "mimetype": "text/x-python",
   "name": "python",
   "nbconvert_exporter": "python",
   "pygments_lexer": "ipython3",
   "version": "3.6.1"
  }
 },
 "nbformat": 4,
 "nbformat_minor": 2
}
