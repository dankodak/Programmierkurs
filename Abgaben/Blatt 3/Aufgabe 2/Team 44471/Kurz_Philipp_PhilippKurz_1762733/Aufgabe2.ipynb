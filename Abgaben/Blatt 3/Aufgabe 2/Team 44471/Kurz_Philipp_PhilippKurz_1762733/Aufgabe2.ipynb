{
 "cells": [
  {
   "cell_type": "code",
   "execution_count": 39,
   "metadata": {},
   "outputs": [
    {
     "name": "stdout",
     "output_type": "stream",
     "text": [
      "N=10\n",
      "[1, 9, 36, 84, 126, 126, 84, 36, 9, 1]\n"
     ]
    }
   ],
   "source": [
    "n=int(input(\"N=\"))\n",
    "def pascal(n):\n",
    "    if n == 1:\n",
    "        return [1]\n",
    "    elif n == 2:\n",
    "        return [1,1]\n",
    "    else:\n",
    "        pascal1 = [1]\n",
    "        p = pascal(n-1)\n",
    "        for i in range(len(p)-1):\n",
    "            pascal1.append(p[i] + p[i+1])\n",
    "        pascal1 += [1]\n",
    "    return pascal1\n",
    "print(pascal(n))"
   ]
  },
  {
   "cell_type": "code",
   "execution_count": null,
   "metadata": {},
   "outputs": [],
   "source": []
  },
  {
   "cell_type": "code",
   "execution_count": null,
   "metadata": {},
   "outputs": [],
   "source": []
  }
 ],
 "metadata": {
  "kernelspec": {
   "display_name": "Python 3",
   "language": "python",
   "name": "python3"
  },
  "language_info": {
   "codemirror_mode": {
    "name": "ipython",
    "version": 3
   },
   "file_extension": ".py",
   "mimetype": "text/x-python",
   "name": "python",
   "nbconvert_exporter": "python",
   "pygments_lexer": "ipython3",
   "version": "3.4.2"
  }
 },
 "nbformat": 4,
 "nbformat_minor": 2
}
