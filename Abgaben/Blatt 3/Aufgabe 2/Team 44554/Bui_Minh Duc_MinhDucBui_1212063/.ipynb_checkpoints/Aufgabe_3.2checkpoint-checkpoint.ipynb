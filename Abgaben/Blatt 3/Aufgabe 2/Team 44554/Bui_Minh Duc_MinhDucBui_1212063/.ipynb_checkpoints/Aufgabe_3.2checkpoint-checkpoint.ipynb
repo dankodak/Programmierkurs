{
 "cells": [
  {
   "cell_type": "code",
   "execution_count": 2,
   "metadata": {},
   "outputs": [
    {
     "name": "stdout",
     "output_type": "stream",
     "text": [
      "Wert von n eingeben:10\n",
      "[1]\n",
      "[1, 1]\n",
      "[1, 2, 1]\n",
      "[1, 3, 3, 1]\n",
      "[1, 4, 6, 4, 1]\n",
      "[1, 5, 10, 10, 5, 1]\n",
      "[1, 6, 15, 20, 15, 6, 1]\n",
      "[1, 7, 21, 35, 35, 21, 7, 1]\n",
      "[1, 8, 28, 56, 70, 56, 28, 8, 1]\n",
      "[1, 9, 36, 84, 126, 126, 84, 36, 9, 1]\n"
     ]
    }
   ],
   "source": [
    "#Übung 3 Aufgabe 2\n",
    "n = int(input('Wert von n eingeben:'))\n",
    "l = [1]\n",
    "if n == 1:\n",
    "    print(1)\n",
    "elif n == 2:\n",
    "    print(1 ,1)\n",
    "else:\n",
    "    for i in range(n):\n",
    "        print(l)\n",
    "        newlist = []\n",
    "        newlist.append(l[0])\n",
    "        for i in range(len(l) - 1):\n",
    "            newlist.append(l[i] + l[i+1])\n",
    "        newlist.append(l[-1])\n",
    "        l = newlist"
   ]
  },
  {
   "cell_type": "code",
   "execution_count": null,
   "metadata": {
    "collapsed": true
   },
   "outputs": [],
   "source": []
  }
 ],
 "metadata": {
  "kernelspec": {
   "display_name": "Python 3",
   "language": "python",
   "name": "python3"
  }
 },
 "nbformat": 4,
 "nbformat_minor": 2
}
