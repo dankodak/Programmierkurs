{
 "cells": [
  {
   "cell_type": "markdown",
   "metadata": {},
   "source": [
    "Aufgabe 3: Horner-Schema zur effizienten Auswertung von Polynomen"
   ]
  },
  {
   "cell_type": "code",
   "execution_count": 1,
   "metadata": {},
   "outputs": [
    {
     "name": "stdout",
     "output_type": "stream",
     "text": [
      "Grad des Polynoms (verschieden vom Nullpolynom) eingeben: n = 10\n",
      "Koeffizient a_0: 1\n",
      "Koeffizient a_1: 2\n",
      "Koeffizient a_2: 3\n",
      "Koeffizient a_3: 4\n",
      "Koeffizient a_4: 5\n",
      "Koeffizient a_5: 6\n",
      "Koeffizient a_6: 7\n",
      "Koeffizient a_7: 8\n",
      "Koeffizient a_8: 9\n",
      "Koeffizient a_9: 10\n",
      "Koeffizient a_10: 11\n",
      "Das (n+1)-Tupel der Koeffizienten ist [1.0, 2.0, 3.0, 4.0, 5.0, 6.0, 7.0, 8.0, 9.0, 10.0, 11.0]\n",
      "Bitte x-Wert eingeben: x = 2\n",
      "Der Wert des Polynoms an der Stelle x (Standardberechnung) ist  20481.0 .\n",
      "Der Wert des Polynoms an der Stelle x (Horner-Schema) ist  20481.0 .\n",
      "Die Standardberechnung benötigt insgesamt 0.06145697724209479 Sek., und pro Schleifendurchalauf 6.145697724209479e-06 Sek. \n",
      "Das Horner-Schema benötigt insgesamt 0.022690575337809125 Sek. und pro Schleifendurchlauf 2.2690575337809127e-06 Sek. \n"
     ]
    }
   ],
   "source": [
    "import time\n",
    "while True: # Eingabe des Polynomgrads validieren.\n",
    "    n = int(input(\"Grad des Polynoms (verschieden vom Nullpolynom) eingeben: n = \"))\n",
    "    if n >= 0:\n",
    "        break\n",
    "    print(\"Der Grad des Polynoms muss eine positive ganze Zahl sein.\")\n",
    "\n",
    "a = [] # Lege das (n+1)-Tupel der Koeffizienten a_0,...,a_n als Liste an.\n",
    "for i in range(n+1):\n",
    "    a_i = float(input(\"Koeffizient a_{}: \".format(i))) # Der Koeffizient a_i steht an Stelle a[i] der Liste.\n",
    "    a.append(a_i)\n",
    "print(\"Das (n+1)-Tupel der Koeffizienten ist \" +str(a))\n",
    "\n",
    "x = float(input(\"Bitte x-Wert eingeben: x = \")) # x-Wert einlesen\n",
    "def standard(a, x): # Standardberechnung des Polynoms an der Stelle x:\n",
    "    P_standard = [] # Lege die Monome an der Stelle x als Liste an.\n",
    "    for i in range(n+1): # Berechnet jeweils das Monom p_i = a_i * x^i für i = 0,1,...,n.\n",
    "        p_i = a[i]*x**i \n",
    "        P_standard.append(p_i)\n",
    "    return sum(P_standard) # Summiere die Elemente der Liste auf.\n",
    "print(\"Der Wert des Polynoms an der Stelle x (Standardberechnung) ist \", standard(a, x), \".\")\n",
    "\n",
    "def horner(a, x): # Horner-Schema an der Stelle x:\n",
    "    result = 0 # Start der Rekursion\n",
    "    for i in range(n+1): # Mit jedem Schleifendurchlauf wird b_(n-i) für i = 0,1,...n berechnet,\n",
    "        result = result*x + a[n-i] # angefangen bei b_n = a[n] = a_n für i = 0.\n",
    "    return result\n",
    "print(\"Der Wert des Polynoms an der Stelle x (Horner-Schema) ist \", horner(a, x), \".\")\n",
    "\n",
    "y = 4.12 # Das Polynom soll an der Stelle 4.12 ausgewertet werden.\n",
    "N = 10000\n",
    "b = []       # Die Koeffizienten -50, -49, ..., 49, 50 als Liste anlegen.\n",
    "i = 0\n",
    "while i <= 100: \n",
    "    b_i = -50 + i\n",
    "    b.append(b_i)\n",
    "    i = i+1   \n",
    "    \n",
    "start = time.clock()\n",
    "for i in range(N):\n",
    "    standard(b, y) # Berechne 10000 mal standard(b, y).\n",
    "end = time.clock()\n",
    "time1 = end - start # Gesamtzeit\n",
    "time_standard = time1/N # Zeit pro Schleifendurchlauf.\n",
    "print(\"Die Standardberechnung benötigt insgesamt {} Sek., und pro Schleifendurchalauf {} Sek. \".format(time1, time_standard))\n",
    "start = time.clock()\n",
    "for i in range(N):\n",
    "    horner(b, y) # Berechne 10000 mal horner(b, y).\n",
    "end = time.clock()\n",
    "time2 = end - start # Gesamtzeit\n",
    "time_horner = time2/N # Zeit pro Schleifendurchlauf.\n",
    "print(\"Das Horner-Schema benötigt insgesamt {} Sek. und pro Schleifendurchlauf {} Sek. \".format(time2, time_horner))"
   ]
  }
 ],
 "metadata": {
  "kernelspec": {
   "display_name": "Python 3",
   "language": "python",
   "name": "python3"
  },
  "language_info": {
   "codemirror_mode": {
    "name": "ipython",
    "version": 3
   },
   "file_extension": ".py",
   "mimetype": "text/x-python",
   "name": "python",
   "nbconvert_exporter": "python",
   "pygments_lexer": "ipython3",
   "version": "3.6.1"
  }
 },
 "nbformat": 4,
 "nbformat_minor": 2
}
