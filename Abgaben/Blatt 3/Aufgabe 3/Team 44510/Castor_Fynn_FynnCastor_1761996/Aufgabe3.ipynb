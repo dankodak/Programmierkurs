{
 "cells": [
  {
   "cell_type": "code",
   "execution_count": 2,
   "metadata": {},
   "outputs": [
    {
     "name": "stdout",
     "output_type": "stream",
     "text": [
      "n=2\n",
      "x=2\n",
      "a0=1\n",
      "a1=2\n",
      "a2=3\n",
      "px=17.0\n"
     ]
    }
   ],
   "source": [
    "n=int(input(\"n=\"))\n",
    "x=int(input(\"x=\"))\n",
    "lista=[]\n",
    "for i in range(0,n+1):\n",
    "    m=float(input(\"a{}=\".format(i)))\n",
    "    lista.append(m)\n",
    "k=0\n",
    "px=0\n",
    "while k<=n:\n",
    "    px+=lista[k]*x**k\n",
    "    k+=1\n",
    "print(\"px={}\".format(px))\n",
    "\n"
   ]
  },
  {
   "cell_type": "code",
   "execution_count": 4,
   "metadata": {},
   "outputs": [
    {
     "name": "stdout",
     "output_type": "stream",
     "text": [
      "n=2\n",
      "x=2\n",
      "a0=1\n",
      "a1=2\n",
      "a2=3\n",
      "px=17.0\n"
     ]
    }
   ],
   "source": [
    "n=int(input(\"n=\"))\n",
    "x=int(input(\"x=\"))\n",
    "lista=[]\n",
    "for i in range(0,n+1):\n",
    "    m=float(input(\"a{}=\".format(i)))\n",
    "    lista.append(m)\n",
    "bn=lista[n]\n",
    "for i in range(n,0,-1):\n",
    "    bn=bn*x+lista[i-1]\n",
    "print(\"px={}\".format(bn))"
   ]
  }
 ],
 "metadata": {
  "kernelspec": {
   "display_name": "Python 3",
   "language": "python",
   "name": "python3"
  },
  "language_info": {
   "codemirror_mode": {
    "name": "ipython",
    "version": 3
   },
   "file_extension": ".py",
   "mimetype": "text/x-python",
   "name": "python",
   "nbconvert_exporter": "python",
   "pygments_lexer": "ipython3",
   "version": "3.4.2"
  }
 },
 "nbformat": 4,
 "nbformat_minor": 2
}
