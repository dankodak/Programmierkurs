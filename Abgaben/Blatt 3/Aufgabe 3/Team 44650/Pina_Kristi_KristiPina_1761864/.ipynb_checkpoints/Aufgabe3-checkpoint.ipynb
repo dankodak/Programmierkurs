{
 "cells": [
  {
   "cell_type": "code",
   "execution_count": 1,
   "metadata": {},
   "outputs": [
    {
     "name": "stdout",
     "output_type": "stream",
     "text": [
      "N=10\n",
      "x=1\n",
      "Der Funktionswert ist gleich 66 .\n"
     ]
    }
   ],
   "source": [
    "n=int(input(\"N=\"))\n",
    "x=int(input(\"x=\"))\n",
    "if n<0:\n",
    "    print(\"Bitte geben sie eine natürliche Zahl oder 0 ein!\")\n",
    "i=0\n",
    "a=[]\n",
    "while i<=n:\n",
    "    ai=i+1\n",
    "    a.append(ai)\n",
    "    i+=1\n",
    "def standard(a,x):\n",
    "    if n==0:\n",
    "        return a[0]\n",
    "    else:\n",
    "        sum = 0\n",
    "        for e in range(0,n+1):\n",
    "            sum += a[e]*x**e\n",
    "        return sum\n",
    "        \n",
    "    \n",
    "\n",
    "print(\"Der Funktionswert ist gleich\",standard(a,x),\".\")\n",
    "    \n",
    "        \n",
    "    \n",
    "\n",
    "   \n"
   ]
  },
  {
   "cell_type": "code",
   "execution_count": 29,
   "metadata": {},
   "outputs": [
    {
     "name": "stdout",
     "output_type": "stream",
     "text": [
      "Der Funktionswert ist gleich 22461 .\n"
     ]
    }
   ],
   "source": [
    "import copy\n",
    "b = copy.deepcopy(a)\n",
    "\n",
    "def horner(a,x):    \n",
    "    h=a[n-1]+ x*a[n]\n",
    "    for e in range (1,n):\n",
    "        h=a[n-1-e]+(h)*x\n",
    "        \n",
    "    return h\n",
    "    \n",
    "print(\"Der Funktionswert ist gleich\",horner(a,x),\".\")"
   ]
  },
  {
   "cell_type": "code",
   "execution_count": null,
   "metadata": {},
   "outputs": [],
   "source": []
  }
 ],
 "metadata": {
  "kernelspec": {
   "display_name": "Python 3",
   "language": "python",
   "name": "python3"
  },
  "language_info": {
   "codemirror_mode": {
    "name": "ipython",
    "version": 3
   },
   "file_extension": ".py",
   "mimetype": "text/x-python",
   "name": "python",
   "nbconvert_exporter": "python",
   "pygments_lexer": "ipython3",
   "version": "3.6.1"
  }
 },
 "nbformat": 4,
 "nbformat_minor": 2
}
