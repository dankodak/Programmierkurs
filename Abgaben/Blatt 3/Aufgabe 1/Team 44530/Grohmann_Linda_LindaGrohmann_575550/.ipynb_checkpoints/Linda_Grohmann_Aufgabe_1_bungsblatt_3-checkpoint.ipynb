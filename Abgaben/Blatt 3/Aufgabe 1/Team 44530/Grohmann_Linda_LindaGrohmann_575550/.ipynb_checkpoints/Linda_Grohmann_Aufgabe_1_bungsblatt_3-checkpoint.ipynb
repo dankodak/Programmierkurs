{
 "cells": [
  {
   "cell_type": "markdown",
   "metadata": {},
   "source": [
    "Aufgabe 1: Kurzform der Mengen- und Listenoperationen"
   ]
  },
  {
   "cell_type": "code",
   "execution_count": 1,
   "metadata": {},
   "outputs": [
    {
     "name": "stdout",
     "output_type": "stream",
     "text": [
      "Untere Intervallgrenze: a = 1\n",
      "Obere Intervallgrenze: b = 2\n",
      "Anzahl der Schritte: n = 10\n",
      "Teilaufgabe a)\n",
      "Die Sequenz x_i := a + iΔx für i = 0,1,...,n und Δx := (b-a)/n ist gegeben durch [1.0, 1.1, 1.2, 1.3, 1.4, 1.5, 1.6, 1.7000000000000002, 1.8, 1.9, 2.0].\n",
      "Teilaufgabe b)\n",
      "Die Menge aller natürlichzahliger Tupel (a,b) für die gilt, dass a/b eine natürliche Zahl ist und a,b kleiner gleich 10 sind, ist gegeben durch [(1, 1), (2, 1), (2, 2), (3, 1), (3, 3), (4, 1), (4, 2), (4, 4), (5, 1), (5, 5), (6, 1), (6, 2), (6, 3), (6, 6), (7, 1), (7, 7), (8, 1), (8, 2), (8, 4), (8, 8), (9, 1), (9, 3), (9, 9), (10, 1), (10, 2), (10, 5), (10, 10)].\n",
      "Teilaufgabe c)\n",
      "Die Menge aller natürlichzahliger Tripel (a,b,c) für die gilt, dass a,b,c kleiner gleich 10 sind und den Satz des Pythagoras a^2 + b^2 = c^2 erfüllen, ist gegeben durch [(3, 4, 5), (4, 3, 5), (6, 8, 10), (8, 6, 10)].\n"
     ]
    }
   ],
   "source": [
    "N = 10 # In Teilaufgabe b) und c) sollen a,b bzw. a,b,c jeweils kleiner oder gleich 10 sein.\n",
    "\n",
    "while True: # Eingabe der Intervallgrenzen für Teilaufgabe a) validieren.\n",
    "    a0 = float(input(\"Untere Intervallgrenze: a = \"))\n",
    "    b0 = float(input(\"Obere Intervallgrenze: b = \"))\n",
    "    if b0 >= a0:\n",
    "        break\n",
    "    print(\"Die obere Intervallgrenze b muss größer oder gleich der unteren Intervallgrenze a sein.\")\n",
    "\n",
    "while True: # Eingabe der Anzahl der Auswertungsschritte für Teilaufgabe a) validieren.\n",
    "    n = int(input(\"Anzahl der Schritte: n = \"))\n",
    "    if n >= 1:\n",
    "        break\n",
    "    print(\"Dies ist keine positive ganze Zahl. Bitte noch einmal versuchen!\")\n",
    "    \n",
    "delta = (b0 - a0)/n\n",
    "A = [] # Liste für Teilaufgabe a) anlegen.\n",
    "for i in range(n+1): # Füllt die Liste mit den n+1 Elementen x_i für i = 0,1,...,n.\n",
    "    x_i = a0 + i*(delta)\n",
    "    A.append(x_i)\n",
    "\n",
    "print(\"Teilaufgabe a)\")    \n",
    "print(\"Die Sequenz x_i := a + iΔx für i = 0,1,...,n und Δx := (b-a)/n ist gegeben durch \" + str(A) + \".\")\n",
    "\n",
    "    \n",
    "B = [(a,b) for a in range(1, N+1) for b in range(1, N+1) if (a/b)%1 == 0] # Menge wie in b) vorgegeben definieren.\n",
    "# (a/b)%1 == 0 sorgt dafür, dass die Bedingung \"(a/b) Element der natürlichen Zahlen\" erfüllt ist.\n",
    "\n",
    "C = [(a,b,c) for a in range(1, N+1) for b in range(1, N+1) for c in range(1, N+1) if a**2 + b**2 == c**2] \n",
    "# Menge wie in c) vorgegeben definieren.\n",
    "\n",
    "print(\"Teilaufgabe b)\")\n",
    "print(\"Die Menge aller natürlichzahliger Tupel (a,b) für die gilt, dass a/b eine natürliche Zahl ist und a,b kleiner gleich 10 sind, ist gegeben durch \" + str(B) + \".\")\n",
    "print(\"Teilaufgabe c)\")\n",
    "print(\"Die Menge aller natürlichzahliger Tripel (a,b,c) für die gilt, dass a,b,c kleiner gleich 10 sind und den Satz des Pythagoras a^2 + b^2 = c^2 erfüllen, ist gegeben durch \" + str(C) + \".\")\n"
   ]
  },
  {
   "cell_type": "code",
   "execution_count": null,
   "metadata": {},
   "outputs": [],
   "source": []
  }
 ],
 "metadata": {
  "kernelspec": {
   "display_name": "Python 3",
   "language": "python",
   "name": "python3"
  },
  "language_info": {
   "codemirror_mode": {
    "name": "ipython",
    "version": 3
   },
   "file_extension": ".py",
   "mimetype": "text/x-python",
   "name": "python",
   "nbconvert_exporter": "python",
   "pygments_lexer": "ipython3",
   "version": "3.6.1"
  }
 },
 "nbformat": 4,
 "nbformat_minor": 2
}
