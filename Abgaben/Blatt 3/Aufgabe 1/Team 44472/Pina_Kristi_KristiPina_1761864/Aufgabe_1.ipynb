{
 "cells": [
  {
   "cell_type": "code",
   "execution_count": 30,
   "metadata": {},
   "outputs": [
    {
     "name": "stdout",
     "output_type": "stream",
     "text": [
      "Bestimmen Sie ein Intervall [a,b] c R.\n",
      "Bestimmen Sie a:5\n",
      "Bestimmen Sie b:9\n",
      "Das Intervall ist [5.0,9.0]\n",
      "Die Länge der Folge n:3\n",
      "A= [6.333333333333333, 7.666666666666666, 9.0]\n"
     ]
    }
   ],
   "source": [
    "\n",
    "a=float(input(\"Bestimmen Sie ein Intervall [a,b] c R.\\n\"\n",
    "              \"Bestimmen Sie a:\"))\n",
    "b=float(input(\"Bestimmen Sie b:\"))\n",
    "if b<=a:\n",
    "    print(\"Bitte stellen Sie sich sicher, dass a<b ist!\")\n",
    "else:\n",
    "    print(\"Das Intervall ist [{},{}]\".format(a,b))\n",
    "\n",
    "n=int(input(\"Die Länge der Folge n:\"))\n",
    "if n<=0:\n",
    "    print(\"Geben Sie bitte eine Natürliche Zahl ein!\")\n",
    "\n",
    "delta_x=(b-a)/n\n",
    "\n",
    "sequenz=[]\n",
    "i=1\n",
    "while i<=n:\n",
    "    xi=a+i*delta_x\n",
    "    sequenz.append(xi)\n",
    "    i += 1\n",
    "print(\"A=\", sequenz)\n",
    "\n"
   ]
  },
  {
   "cell_type": "code",
   "execution_count": 33,
   "metadata": {},
   "outputs": [
    {
     "name": "stdout",
     "output_type": "stream",
     "text": [
      "B= {(10, 2), (9, 1), (6, 6), (7, 7), (2, 1), (6, 2), (5, 1), (3, 3), (5, 5), (8, 1), (4, 4), (6, 3), (2, 2), (4, 1), (1, 1), (8, 2), (7, 1), (9, 3), (10, 1), (4, 2), (10, 5), (10, 10), (6, 1), (3, 1), (9, 9), (8, 8), (8, 4)}\n"
     ]
    }
   ],
   "source": [
    "N={1,2,3,4,5,6,7,8,9,10}\n",
    "M={(a,b) for a in N for b in N if a%b==0}\n",
    "print(\"B=\", M)"
   ]
  },
  {
   "cell_type": "code",
   "execution_count": 34,
   "metadata": {},
   "outputs": [
    {
     "name": "stdout",
     "output_type": "stream",
     "text": [
      "C= {(6, 8, 10), (3, 4, 5), (8, 6, 10), (4, 3, 5)}\n"
     ]
    }
   ],
   "source": [
    "D={(c,d,e) for c in N for d in N for e in N if c*c + d*d == e*e}\n",
    "print(\"C=\", D)"
   ]
  },
  {
   "cell_type": "code",
   "execution_count": null,
   "metadata": {},
   "outputs": [],
   "source": []
  }
 ],
 "metadata": {
  "kernelspec": {
   "display_name": "Python 3",
   "language": "python",
   "name": "python3"
  },
  "language_info": {
   "codemirror_mode": {
    "name": "ipython",
    "version": 3
   },
   "file_extension": ".py",
   "mimetype": "text/x-python",
   "name": "python",
   "nbconvert_exporter": "python",
   "pygments_lexer": "ipython3",
   "version": "3.4.2"
  }
 },
 "nbformat": 4,
 "nbformat_minor": 2
}
