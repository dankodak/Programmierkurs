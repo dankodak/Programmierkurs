{
 "cells": [
  {
   "cell_type": "code",
   "execution_count": 1,
   "metadata": {},
   "outputs": [
    {
     "name": "stdout",
     "output_type": "stream",
     "text": [
      "n=10\n",
      "geben sie die linke grenze des Intervalls an: a=1\n",
      "geben sie die rechte grenze des Intervalls an: b=2\n",
      "[1.0, 1.1, 1.2, 1.3, 1.4, 1.5, 1.6, 1.7000000000000002, 1.8, 1.9, 2.0]\n"
     ]
    }
   ],
   "source": [
    "n=int(input(\"n=\"))\n",
    "while n<1:\n",
    "    n=int(input(\"n=\"))\n",
    "    \n",
    "k=0\n",
    "while k<1:\n",
    "    a=float(input(\"geben sie die linke grenze des Intervalls an: a=\"))\n",
    "    b=float(input(\"geben sie die rechte grenze des Intervalls an: b=\"))\n",
    "    if a<b:\n",
    "        k=1\n",
    "    else :\n",
    "        print(\"\\nAchtung, b muss größer als a sein.\")\n",
    "\n",
    "i=0\n",
    "list1=[]\n",
    "while i<=n:\n",
    "    deltax=(b-a)/n   \n",
    "    x=a+i*deltax\n",
    "    list1.append(x)\n",
    "    i+=1\n",
    "print(list1)"
   ]
  },
  {
   "cell_type": "code",
   "execution_count": 18,
   "metadata": {},
   "outputs": [
    {
     "name": "stdout",
     "output_type": "stream",
     "text": [
      "{(10, 2), (8, 2), (9, 1), (6, 6), (7, 1), (9, 3), (7, 7), (2, 1), (6, 2), (10, 1), (4, 2), (5, 1), (10, 5), (3, 3), (5, 5), (10, 10), (8, 1), (6, 1), (3, 1), (4, 4), (9, 9), (6, 3), (8, 8), (2, 2), (4, 1), (1, 1), (8, 4)}\n"
     ]
    }
   ],
   "source": [
    "Nbis10=[1,2,3,4,5,6,7,8,9,10]\n",
    "set2=set()\n",
    "for a in Nbis10:\n",
    "    for b in Nbis10:\n",
    "        if (a/b)%1 == 0:\n",
    "            set1={(a,b)}\n",
    "        set2=set2.union(set1)\n",
    "print(set2)"
   ]
  },
  {
   "cell_type": "code",
   "execution_count": 26,
   "metadata": {},
   "outputs": [
    {
     "name": "stdout",
     "output_type": "stream",
     "text": [
      "{(6, 8, 10), (3, 4, 5), (8, 6, 10), (4, 3, 5)}\n"
     ]
    }
   ],
   "source": [
    "Nbis10=[1,2,3,4,5,6,7,8,9,10]\n",
    "set2=set()\n",
    "for a in Nbis10:\n",
    "    for b in Nbis10:\n",
    "        for c in Nbis10:\n",
    "            if a**2+b**2==c**2:\n",
    "                set1={(a,b,c)}\n",
    "            set2=set2.union(set1)\n",
    "print(set2)"
   ]
  }
 ],
 "metadata": {
  "kernelspec": {
   "display_name": "Python 3",
   "language": "python",
   "name": "python3"
  },
  "language_info": {
   "codemirror_mode": {
    "name": "ipython",
    "version": 3
   },
   "file_extension": ".py",
   "mimetype": "text/x-python",
   "name": "python",
   "nbconvert_exporter": "python",
   "pygments_lexer": "ipython3",
   "version": "3.6.1"
  }
 },
 "nbformat": 4,
 "nbformat_minor": 2
}
