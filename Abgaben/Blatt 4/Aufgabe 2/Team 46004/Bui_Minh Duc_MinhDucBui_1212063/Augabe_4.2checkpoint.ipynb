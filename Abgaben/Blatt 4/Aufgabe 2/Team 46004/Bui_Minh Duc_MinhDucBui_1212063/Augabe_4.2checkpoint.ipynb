{
 "cells": [
  {
   "cell_type": "code",
   "execution_count": 6,
   "metadata": {},
   "outputs": [
    {
     "name": "stdout",
     "output_type": "stream",
     "text": [
      "a) OK\n",
      "b) OK\n",
      "c) OK\n",
      "Es scheint alles korrekt zu sein! Sehr gut!\n"
     ]
    }
   ],
   "source": [
    "from math import fabs\n",
    "\n",
    "# BITTE IMPLEMENTIEREN SIE IHRE FUNKTIONEN\n",
    "# HIER. ÄNDERN SIE NICHT DEN UNTEREN PROGRAMMTEIL.\n",
    "\n",
    "import math\n",
    "\n",
    "def heaviside(x):\n",
    "    if x < 0:\n",
    "        return 0\n",
    "    else:\n",
    "        return 1\n",
    "    \n",
    "def smoothed_heaviside(x, epsilon=1e-3):\n",
    "    if x < -epsilon:\n",
    "        return 0\n",
    "    \n",
    "    if -epsilon <= x <= epsilon:\n",
    "\n",
    "        result = (0.5+(x/(2*epsilon))+(1/(2*math.pi))*(math.sin((math.pi*x)/epsilon)))        \n",
    "        return result\n",
    "    \n",
    "    if x > epsilon:\n",
    "        return 1\n",
    "\n",
    "def get_piecewise_polynomial(p, a):\n",
    "    def g(x):\n",
    "        \n",
    "        n = 0\n",
    "        while n < len(p)-1:\n",
    "            if p[n] <= x < p[n+1]:\n",
    "                return a[n]\n",
    "            n = n+1\n",
    "        if p[0] > x or x >= p[len(p)-1]:\n",
    "            return 0\n",
    "    return g\n",
    "\n",
    "####################################################################\n",
    "\"\"\"\n",
    "Bitte den folgenden Teil des Programms nicht mehr editieren:\n",
    "Hier werden Ihre Funktionen automatisch getestet.\n",
    "\n",
    "Der assert Befehl erwartet True als Argument, andernfalls wird die\n",
    "Ausführung des Programms mit einer Fehlermeldung abgebrochen.\n",
    "\"\"\"\n",
    "assert heaviside(1) == 1\n",
    "assert heaviside(-1) == 0\n",
    "assert heaviside(0) == 1\n",
    "print(\"a) OK\")\n",
    "\n",
    "assert smoothed_heaviside(-1) == 0\n",
    "assert smoothed_heaviside(1) == 1\n",
    "assert smoothed_heaviside(-1e-4) > 0\n",
    "assert smoothed_heaviside(-1, 2) > 0\n",
    "assert fabs(smoothed_heaviside(1, 2) - (0.5 + 0.25 + 1/2/math.pi)) < 1e-10\n",
    "print(\"b) OK\")\n",
    "\n",
    "a = [1, 2, 3]\n",
    "p = [-1, 1, 2, 2.5]\n",
    "polynomial = get_piecewise_polynomial(p, a)\n",
    "assert polynomial(-10) == 0\n",
    "assert polynomial(10) == 0\n",
    "assert polynomial(-1) == 1\n",
    "assert polynomial(0) == 1\n",
    "assert polynomial(1) == 2\n",
    "assert polynomial(2.25) == 3\n",
    "print(\"c) OK\")\n",
    "\n",
    "print(\"Es scheint alles korrekt zu sein! Sehr gut!\")"
   ]
  },
  {
   "cell_type": "code",
   "execution_count": null,
   "metadata": {
    "collapsed": true
   },
   "outputs": [],
   "source": []
  }
 ],
 "metadata": {
  "kernelspec": {
   "display_name": "Python 3",
   "language": "python",
   "name": "python3"
  },
  "language_info": {
   "codemirror_mode": {
    "name": "ipython",
    "version": 3
   },
   "file_extension": ".py",
   "mimetype": "text/x-python",
   "name": "python",
   "nbconvert_exporter": "python",
   "pygments_lexer": "ipython3",
   "version": "3.6.3"
  }
 },
 "nbformat": 4,
 "nbformat_minor": 2
}
