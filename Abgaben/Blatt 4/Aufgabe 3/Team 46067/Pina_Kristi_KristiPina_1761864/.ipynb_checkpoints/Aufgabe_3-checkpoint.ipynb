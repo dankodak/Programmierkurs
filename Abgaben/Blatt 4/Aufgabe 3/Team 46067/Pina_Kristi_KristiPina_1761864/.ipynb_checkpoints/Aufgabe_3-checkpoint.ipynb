{
 "cells": [
  {
   "cell_type": "code",
   "execution_count": 1,
   "metadata": {},
   "outputs": [
    {
     "name": "stdout",
     "output_type": "stream",
     "text": [
      "18\n"
     ]
    }
   ],
   "source": [
    "a=[1,2,3]\n",
    "b=[1,[2,3],[5,7]]\n",
    "c=[9,[9,[9,[9,2],[2]]]]\n",
    "sum_b=0\n",
    "i=len(b)-1\n",
    "while i >=0:\n",
    "    if isinstance(b[i],int):\n",
    "        sum_b+=b[i]\n",
    "    elif isinstance(b[i],list):\n",
    "        sum_b+=sum(b[i])\n",
    "    i-=1\n",
    "print(sum_b)\n",
    "            \n",
    "    \n"
   ]
  },
  {
   "cell_type": "code",
   "execution_count": 2,
   "metadata": {},
   "outputs": [
    {
     "name": "stdout",
     "output_type": "stream",
     "text": [
      "40\n"
     ]
    }
   ],
   "source": [
    "x= True\n",
    "c=[9,[9,[9,[9,2],[2]]]]\n",
    "sum_c=0\n",
    "d=[]\n",
    "while x is True:\n",
    "    for j in c:\n",
    "        if isinstance(j,list):\n",
    "            d.append(j)\n",
    "        else:\n",
    "            sum_c+=j\n",
    "    if d==[]:\n",
    "        x = False\n",
    "    else:\n",
    "        c= d[0]\n",
    "        d.pop(0)    \n",
    "\n",
    "print (sum_c)\n",
    "    "
   ]
  },
  {
   "cell_type": "code",
   "execution_count": null,
   "metadata": {},
   "outputs": [],
   "source": []
  },
  {
   "cell_type": "code",
   "execution_count": null,
   "metadata": {},
   "outputs": [],
   "source": []
  }
 ],
 "metadata": {
  "kernelspec": {
   "display_name": "Python 3",
   "language": "python",
   "name": "python3"
  },
  "language_info": {
   "codemirror_mode": {
    "name": "ipython",
    "version": 3
   },
   "file_extension": ".py",
   "mimetype": "text/x-python",
   "name": "python",
   "nbconvert_exporter": "python",
   "pygments_lexer": "ipython3",
   "version": "3.6.1"
  }
 },
 "nbformat": 4,
 "nbformat_minor": 2
}
