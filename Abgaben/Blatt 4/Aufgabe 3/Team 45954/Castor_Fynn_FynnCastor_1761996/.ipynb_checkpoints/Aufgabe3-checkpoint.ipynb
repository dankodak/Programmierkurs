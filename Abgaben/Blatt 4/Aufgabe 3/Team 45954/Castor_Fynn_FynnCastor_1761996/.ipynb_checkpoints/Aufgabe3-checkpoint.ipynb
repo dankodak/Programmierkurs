{
 "cells": [
  {
   "cell_type": "code",
   "execution_count": 2,
   "metadata": {},
   "outputs": [
    {
     "name": "stdout",
     "output_type": "stream",
     "text": [
      "6\n",
      "18\n",
      "40\n"
     ]
    }
   ],
   "source": [
    "def list_sum(L):\n",
    "    p=0\n",
    "    x=1\n",
    "    listen=[]\n",
    "    while x ==1:\n",
    "        for i in L :\n",
    "            if isinstance(i,list) is True :\n",
    "                listen.append(i)\n",
    "            \n",
    "            else:\n",
    "                p+=i\n",
    "        if listen==[]:\n",
    "            x=2\n",
    "        \n",
    "        else:\n",
    "            \n",
    "            L=listen[0]\n",
    "            del listen[0]\n",
    "        \n",
    "        \n",
    "    return p\n",
    "            \n",
    "print(list_sum([1,2,3]))\n",
    "print(list_sum([1,[2,3],[5,7]]))\n",
    "print(list_sum([9,[9,[9,[9,2],[2]]]]))"
   ]
  },
  {
   "cell_type": "code",
   "execution_count": null,
   "metadata": {},
   "outputs": [],
   "source": []
  },
  {
   "cell_type": "code",
   "execution_count": null,
   "metadata": {},
   "outputs": [],
   "source": []
  },
  {
   "cell_type": "code",
   "execution_count": null,
   "metadata": {},
   "outputs": [],
   "source": []
  }
 ],
 "metadata": {
  "kernelspec": {
   "display_name": "Python 3",
   "language": "python",
   "name": "python3"
  },
  "language_info": {
   "codemirror_mode": {
    "name": "ipython",
    "version": 3
   },
   "file_extension": ".py",
   "mimetype": "text/x-python",
   "name": "python",
   "nbconvert_exporter": "python",
   "pygments_lexer": "ipython3",
   "version": "3.6.1"
  }
 },
 "nbformat": 4,
 "nbformat_minor": 2
}
