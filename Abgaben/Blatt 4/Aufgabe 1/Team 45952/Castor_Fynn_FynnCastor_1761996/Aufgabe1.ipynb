{
 "cells": [
  {
   "cell_type": "code",
   "execution_count": 1,
   "metadata": {},
   "outputs": [
    {
     "name": "stdout",
     "output_type": "stream",
     "text": [
      "A= 1010.0501530557857\n",
      "J= 693.1481432593761\n"
     ]
    }
   ],
   "source": [
    "from interest import endbetrag, anfangsbetrag, anzahldertage, Zinssatz\n",
    "\n",
    "print(\"A=\",endbetrag(1000,3600,0.1))\n",
    "\n",
    "Ao=endbetrag(1000,3600,0.1)\n",
    "A=2*endbetrag(1000,3600,0.1)\n",
    "p=0.1\n",
    "print(\"J=\",anzahldertage(A,Ao,p)/360)\n",
    "\n"
   ]
  }
 ],
 "metadata": {
  "kernelspec": {
   "display_name": "Python 3",
   "language": "python",
   "name": "python3"
  },
  "language_info": {
   "codemirror_mode": {
    "name": "ipython",
    "version": 3
   },
   "file_extension": ".py",
   "mimetype": "text/x-python",
   "name": "python",
   "nbconvert_exporter": "python",
   "pygments_lexer": "ipython3",
   "version": "3.4.2"
  }
 },
 "nbformat": 4,
 "nbformat_minor": 2
}
