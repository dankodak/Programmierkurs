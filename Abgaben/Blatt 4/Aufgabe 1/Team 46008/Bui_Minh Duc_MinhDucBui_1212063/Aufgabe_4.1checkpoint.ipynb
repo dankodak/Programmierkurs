{
 "cells": [
  {
   "cell_type": "code",
   "execution_count": 14,
   "metadata": {},
   "outputs": [
    {
     "name": "stdout",
     "output_type": "stream",
     "text": [
      "Kapital eingben: 1000\n",
      "Prozentsatz eingeben: 1\n",
      "Tagen eingeben: 3600\n",
      "Der Wert nach 10.0  Jahre ist:  1105.17\n"
     ]
    }
   ],
   "source": [
    "#Modul zur Zinseszinsberechnung anlegen\n",
    "import math\n",
    "a0 = float(input(\"Kapital eingben: \"))\n",
    "p = float(input(\"Prozentsatz eingeben: \"))\n",
    "n = float(input(\"Tagen eingeben: \"))\n",
    "j = tage/360\n",
    "\n",
    "A = a0*(1 + p/(360*100))**n\n",
    "\n",
    "print(\"Der Wert nach\", j,\" Jahre ist: \", \"%.2f\" %A)"
   ]
  },
  {
   "cell_type": "code",
   "execution_count": 21,
   "metadata": {},
   "outputs": [
    {
     "name": "stdout",
     "output_type": "stream",
     "text": [
      "Kapital eingben: 1000\n",
      "Prozentsatz eingeben: 1\n",
      "Ziel eingeben: 2000\n",
      "nach so viele  69.32  Jahren habe ich meine Kapital verdoppelt\n"
     ]
    }
   ],
   "source": [
    "import math\n",
    "a0 = float(input(\"Kapital eingben: \"))\n",
    "p = float(input(\"Prozentsatz eingeben: \"))\n",
    "a = float(input(\"Ziel eingeben: \"))\n",
    "\n",
    "n = (math.log10(a/a0))/(math.log10(1 + p/(360*100)))\n",
    "print(\"nach so viele \", \"%.2f\" %(n/360),\" Jahren habe ich meine Kapital verdoppelt\")"
   ]
  },
  {
   "cell_type": "code",
   "execution_count": null,
   "metadata": {
    "collapsed": true
   },
   "outputs": [],
   "source": []
  }
 ],
 "metadata": {
  "kernelspec": {
   "display_name": "Python 3",
   "language": "python",
   "name": "python3"
  },
  "language_info": {
   "codemirror_mode": {
    "name": "ipython",
    "version": 3
   },
   "file_extension": ".py",
   "mimetype": "text/x-python",
   "name": "python",
   "nbconvert_exporter": "python",
   "pygments_lexer": "ipython3",
   "version": "3.6.3"
  }
 },
 "nbformat": 4,
 "nbformat_minor": 2
}
