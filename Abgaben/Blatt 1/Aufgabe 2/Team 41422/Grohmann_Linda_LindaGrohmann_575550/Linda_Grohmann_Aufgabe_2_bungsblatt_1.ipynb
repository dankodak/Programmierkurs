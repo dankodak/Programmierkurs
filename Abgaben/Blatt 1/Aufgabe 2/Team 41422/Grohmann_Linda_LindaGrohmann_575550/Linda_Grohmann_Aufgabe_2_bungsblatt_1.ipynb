{
 "cells": [
  {
   "cell_type": "markdown",
   "metadata": {},
   "source": [
    "Aufgabe 2: Löser für quadratische Gleichungen"
   ]
  },
  {
   "cell_type": "code",
   "execution_count": 2,
   "metadata": {},
   "outputs": [
    {
     "name": "stdout",
     "output_type": "stream",
     "text": [
      "a = 5\n",
      "b = 95\n",
      " c = 7\n",
      "Die Lösung der quadratischen Gleichung ax^2 + bx + c = 0 ist:\n",
      "x_1 =(-0.07397220458161372+0j), x_2 =(-18.926027795418385+0j)\n"
     ]
    }
   ],
   "source": [
    "import cmath\n",
    "a = int(input(\"a = \")); b = int(input(\"b = \")); c = int(input(\" c = \")) # Wähle Werte für die Variablen a, b, c.\n",
    "print(\"Die Lösung der quadratischen Gleichung ax^2 + bx + c = 0 ist:\")\n",
    "if a != 0:\n",
    "    print(\"x_1 =\" + str((-b + cmath.sqrt(b**2 - 4*a*c))/(a*2))+\", x_2 =\"+str((-b - cmath.sqrt(b**2 - 4*a*c))/(a*2)))\n",
    "elif a == 0 and b != 0:\n",
    "    print(\"x =\" + str((-c)/b))\n",
    "elif b == 0 and a != 0:\n",
    "    print(\"x_1 =\" + str(cmath.sqrt(-4*a*c)/2*a) + \", x_2 =\" + str(-cmath.sqrt(-4*a*c)/2*a))\n",
    "elif b == 0 and a == 0 and c != 0:\n",
    "    print(\"Widerspruch\")\n",
    "elif b == 0 and a == 0 and c == 0:\n",
    "    print (\"x_1, x_2 beliebig\")"
   ]
  },
  {
   "cell_type": "markdown",
   "metadata": {},
   "source": [
    "Frage: Ich hätte die quadratische Gleichung gerne als string gehabt, um die Potenz schöner darzustellen als mit \"^\", aber dann kommt als Fehlermeldung, dass die Variable x nicht definiert wurde. Wie kann ich das umgehen?"
   ]
  }
 ],
 "metadata": {
  "kernelspec": {
   "display_name": "Python 3",
   "language": "python",
   "name": "python3"
  },
  "language_info": {
   "codemirror_mode": {
    "name": "ipython",
    "version": 3
   },
   "file_extension": ".py",
   "mimetype": "text/x-python",
   "name": "python",
   "nbconvert_exporter": "python",
   "pygments_lexer": "ipython3",
   "version": "3.6.3"
  }
 },
 "nbformat": 4,
 "nbformat_minor": 2
}
