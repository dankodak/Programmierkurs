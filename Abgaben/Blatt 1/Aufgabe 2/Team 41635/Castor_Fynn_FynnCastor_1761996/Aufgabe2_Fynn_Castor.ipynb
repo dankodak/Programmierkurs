{
 "cells": [
  {
   "cell_type": "code",
   "execution_count": null,
   "metadata": {},
   "outputs": [],
   "source": [
    "import cmath\n",
    "a= float(input(\"insert a:\"))\n",
    "b= float(input(\"insert b:\"))\n",
    "c= float(input(\"insert c:\"))\n",
    "\n",
    "m= cmath.sqrt(b**2-4*a*c)\n",
    "x1=(-b+m)/(2*a)\n",
    "x2=(-b-m)/(2*a)\n",
    "\n",
    "print(\"x1={}\".format(x1))\n",
    "print(\"x2={}\".format(x2))\n"
   ]
  }
 ],
 "metadata": {
  "kernelspec": {
   "display_name": "Python 3",
   "language": "python",
   "name": "python3"
  },
  "language_info": {
   "codemirror_mode": {
    "name": "ipython",
    "version": 3
   },
   "file_extension": ".py",
   "mimetype": "text/x-python",
   "name": "python",
   "nbconvert_exporter": "python",
   "pygments_lexer": "ipython3",
   "version": "3.4.2"
  }
 },
 "nbformat": 4,
 "nbformat_minor": 2
}
