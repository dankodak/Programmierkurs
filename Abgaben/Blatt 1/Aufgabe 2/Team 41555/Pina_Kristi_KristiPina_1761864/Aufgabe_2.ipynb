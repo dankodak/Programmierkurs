{
 "cells": [
  {
   "cell_type": "code",
   "execution_count": null,
   "metadata": {},
   "outputs": [],
   "source": [
    "import cmath\n",
    "\n",
    "\n",
    "a = float(input(\"Lösen einer quadratischen Gleichung ax²+bx+c=0.\\n a= \"))\n",
    "if a==0:\n",
    "    print (\"ACHTUNG!!! a darf nicht 0 sein.\")\n",
    "b = float(input(\"b= \"))\n",
    "c = float(input(\"c= \"))\n",
    "D = float(b*b-4*a*c)\n",
    "\n",
    "x1 = ((-b+cmath.sqrt(D))/(2*a))\n",
    "x2 = ((-b-cmath.sqrt(D))/(2*a))\n",
    "\n",
    "\n",
    "print (\"Die richtigen Lösungen sind x1={} und x2={}\".format(x1,x2))\n",
    "\n"
   ]
  },
  {
   "cell_type": "code",
   "execution_count": null,
   "metadata": {},
   "outputs": [],
   "source": []
  },
  {
   "cell_type": "code",
   "execution_count": null,
   "metadata": {},
   "outputs": [],
   "source": []
  }
 ],
 "metadata": {
  "kernelspec": {
   "display_name": "Python 3",
   "language": "python",
   "name": "python3"
  },
  "language_info": {
   "codemirror_mode": {
    "name": "ipython",
    "version": 3
   },
   "file_extension": ".py",
   "mimetype": "text/x-python",
   "name": "python",
   "nbconvert_exporter": "python",
   "pygments_lexer": "ipython3",
   "version": "3.4.2"
  }
 },
 "nbformat": 4,
 "nbformat_minor": 2
}
