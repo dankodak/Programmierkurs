{
 "cells": [
  {
   "cell_type": "markdown",
   "metadata": {},
   "source": [
    "Aufgabe 4: Fakultät berechnen"
   ]
  },
  {
   "cell_type": "code",
   "execution_count": null,
   "metadata": {},
   "outputs": [],
   "source": [
    "n = int(input(\"Die Fakultät der natürlichen Zahl n = \"))\n",
    "factorial = 1   # n! >= 1 für jede natürliche Zahl n, daher sei die Variable factorial = 1.\n",
    "while n > 1:    # n > 0 wäre auch möglich, aber da 0! = 1! = 1, wird für n > 1 die Schleife einmal weniger durchlaufen.\n",
    "    factorial = factorial*n \n",
    "    n = n-1     # 1.Schleifendurchlauf: factorial = 1*n; 2.Schleifendurchlauf: factorial = n*(n-1); usw. bis n > 1 nicht mehr erfüllt ist.\n",
    "print(\"ist \" + str(factorial)+\".\")"
   ]
  }
 ],
 "metadata": {
  "kernelspec": {
   "display_name": "Python 3",
   "language": "python",
   "name": "python3"
  },
  "language_info": {
   "codemirror_mode": {
    "name": "ipython",
    "version": 3
   },
   "file_extension": ".py",
   "mimetype": "text/x-python",
   "name": "python",
   "nbconvert_exporter": "python",
   "pygments_lexer": "ipython3",
   "version": "3.6.3"
  }
 },
 "nbformat": 4,
 "nbformat_minor": 2
}
