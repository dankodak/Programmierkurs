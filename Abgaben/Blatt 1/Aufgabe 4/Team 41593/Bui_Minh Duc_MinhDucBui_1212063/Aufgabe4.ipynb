{
 "cells": [
  {
   "cell_type": "code",
   "execution_count": 1,
   "metadata": {},
   "outputs": [
    {
     "name": "stdout",
     "output_type": "stream",
     "text": [
      "Eine natürliche Zahl eingeben: 5\n",
      "Der Fakultät von 5 ist 120\n"
     ]
    }
   ],
   "source": [
    "\n",
    "n= int(input(\"Eine natürliche Zahl eingeben: \" ))\n",
    "\n",
    "\n",
    "factorial = 1\n",
    "\n",
    "# Ist der Zahl Positiv oder gleich 0\n",
    "# kleine Notiz: wenn ich n = 0 mache, habe ich eine unendlich schleife von \"0! = 1\" und ich weiß nicht wie ich es wegmache\n",
    "while n == 0:\n",
    "    print(\"0! = 1\")\n",
    "else:\n",
    "    for i in range(1,n + 1):\n",
    "       factorial = factorial*i\n",
    "    print(\"Der Fakultät von\",n,\"ist\",factorial)"
   ]
  },
  {
   "cell_type": "code",
   "execution_count": null,
   "metadata": {
    "collapsed": true
   },
   "outputs": [],
   "source": []
  }
 ],
 "metadata": {
  "kernelspec": {
   "display_name": "Python 3",
   "language": "python",
   "name": "python3"
  },
  "language_info": {
   "codemirror_mode": {
    "name": "ipython",
    "version": 3
   },
   "file_extension": ".py",
   "mimetype": "text/x-python",
   "name": "python",
   "nbconvert_exporter": "python",
   "pygments_lexer": "ipython3",
   "version": "3.6.2"
  }
 },
 "nbformat": 4,
 "nbformat_minor": 2
}
