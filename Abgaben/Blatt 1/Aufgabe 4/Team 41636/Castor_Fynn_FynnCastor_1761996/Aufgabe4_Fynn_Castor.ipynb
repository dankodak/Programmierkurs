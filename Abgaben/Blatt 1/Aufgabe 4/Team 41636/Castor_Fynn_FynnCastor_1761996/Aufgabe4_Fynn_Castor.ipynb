{
 "cells": [
  {
   "cell_type": "code",
   "execution_count": null,
   "metadata": {},
   "outputs": [],
   "source": [
    "n=int(input(\"insert n=\"))\n",
    "i=1\n",
    "m=1\n",
    "while i<n+1:\n",
    "    m=m*i\n",
    "    i=i+1\n",
    "print(\"n!={}\".format(m))"
   ]
  }
 ],
 "metadata": {
  "kernelspec": {
   "display_name": "Python 3",
   "language": "python",
   "name": "python3"
  },
  "language_info": {
   "codemirror_mode": {
    "name": "ipython",
    "version": 3
   },
   "file_extension": ".py",
   "mimetype": "text/x-python",
   "name": "python",
   "nbconvert_exporter": "python",
   "pygments_lexer": "ipython3",
   "version": "3.4.2"
  }
 },
 "nbformat": 4,
 "nbformat_minor": 2
}
