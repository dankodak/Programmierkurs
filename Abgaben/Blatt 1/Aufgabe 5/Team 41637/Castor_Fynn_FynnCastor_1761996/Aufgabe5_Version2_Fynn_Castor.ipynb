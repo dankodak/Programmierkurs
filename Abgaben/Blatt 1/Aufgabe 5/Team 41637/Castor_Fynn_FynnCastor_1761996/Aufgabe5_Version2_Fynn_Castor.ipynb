{
 "cells": [
  {
   "cell_type": "code",
   "execution_count": null,
   "metadata": {},
   "outputs": [],
   "source": [
    "import math\n",
    "n=int(input(\"n=\"))\n",
    "i=0\n",
    "print(\"    x     |  sinx    |  Fehler  \")\n",
    "print(\"__________|__________|__________\")\n",
    "while i<n+1:\n",
    "    x=-0.5+(i/n)\n",
    "    sinx=math.sin(x)\n",
    "    Fehler=math.fabs(x-sinx)\n",
    "    print(\"{:^10.4f}|{:^10.4f}|{:^10.4f}\".format(x,sinx,Fehler))\n",
    "    i=i+1"
   ]
  }
 ],
 "metadata": {
  "kernelspec": {
   "display_name": "Python 3",
   "language": "python",
   "name": "python3"
  },
  "language_info": {
   "codemirror_mode": {
    "name": "ipython",
    "version": 3
   },
   "file_extension": ".py",
   "mimetype": "text/x-python",
   "name": "python",
   "nbconvert_exporter": "python",
   "pygments_lexer": "ipython3",
   "version": "3.4.2"
  }
 },
 "nbformat": 4,
 "nbformat_minor": 2
}
