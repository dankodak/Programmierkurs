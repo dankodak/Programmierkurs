{
 "cells": [
  {
   "cell_type": "markdown",
   "metadata": {},
   "source": [
    "Aufgabe 5: Kleinwinkelnäherung"
   ]
  },
  {
   "cell_type": "code",
   "execution_count": null,
   "metadata": {},
   "outputs": [],
   "source": [
    "import math\n",
    "n = int(input(\"Auswertung der Kleinwinkelnäherung an n äquidistanten Punkten im Intervall [-0.5, 0.5] für n = \"))\n",
    "a = (-0.5)\n",
    "b = 0.5\n",
    "delta = (b-a)/(n-1)\n",
    "i = 0\n",
    "print(\"{:^10}|\".format(str(\"x\")) + \"{:^10}|\".format(str(\"sin(x)\")) + \"{:^10}\".format(str(\"Fehler\")))\n",
    "print(\"-\"*10 + \"|\" + \"-\"*10 + \"|\" + \"-\"*10)\n",
    "while i < n:\n",
    "    print(\"{:^10.4f}|\".format(a +i*delta) + \"{:^10.4f}|\".format(math.sin(a+i*delta)) + \"{:^10.4f}\".format(math.fabs((a+i*delta)-(math.sin(a+i*delta)))))\n",
    "    i = i + 1"
   ]
  },
  {
   "cell_type": "code",
   "execution_count": null,
   "metadata": {},
   "outputs": [],
   "source": []
  },
  {
   "cell_type": "code",
   "execution_count": null,
   "metadata": {},
   "outputs": [],
   "source": []
  },
  {
   "cell_type": "code",
   "execution_count": null,
   "metadata": {},
   "outputs": [],
   "source": []
  },
  {
   "cell_type": "code",
   "execution_count": null,
   "metadata": {},
   "outputs": [],
   "source": []
  }
 ],
 "metadata": {
  "kernelspec": {
   "display_name": "Python 3",
   "language": "python",
   "name": "python3"
  },
  "language_info": {
   "codemirror_mode": {
    "name": "ipython",
    "version": 3
   },
   "file_extension": ".py",
   "mimetype": "text/x-python",
   "name": "python",
   "nbconvert_exporter": "python",
   "pygments_lexer": "ipython3",
   "version": "3.6.3"
  }
 },
 "nbformat": 4,
 "nbformat_minor": 2
}
