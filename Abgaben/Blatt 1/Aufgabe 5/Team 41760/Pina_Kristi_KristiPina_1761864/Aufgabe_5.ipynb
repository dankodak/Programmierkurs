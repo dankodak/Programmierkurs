{
 "cells": [
  {
   "cell_type": "code",
   "execution_count": 46,
   "metadata": {
    "scrolled": true
   },
   "outputs": [
    {
     "name": "stdout",
     "output_type": "stream",
     "text": [
      "Geben Sie ein, wie viele Vergleicungen wollen Sie:6\n"
     ]
    }
   ],
   "source": [
    "n=int(input(\"Geben Sie ein, wie viele Vergleicungen wollen Sie:\"))"
   ]
  },
  {
   "cell_type": "code",
   "execution_count": 47,
   "metadata": {},
   "outputs": [
    {
     "name": "stdout",
     "output_type": "stream",
     "text": [
      "   x    | sin(x)  | Fehler \n",
      "-0.5000 | -0.4794 | 0.02060\n",
      "-0.3000 | -0.2955 | 0.00450\n",
      "-0.1000 | -0.0998 | 0.00020\n",
      " 0.1000 |  0.0998 | 0.00020\n",
      " 0.3000 |  0.2955 | 0.00450\n",
      " 0.5000 |  0.4794 | 0.02060\n"
     ]
    }
   ],
   "source": [
    "i=0\n",
    "n=n-1\n",
    "\n",
    "import math\n",
    "\n",
    "import cmath\n",
    "if n==0:\n",
    "    print(\"{:^{}}\".format(\"x\",7)+\" | \"+\"{:^{}}\".format(\"sin(x)\",7)+\" | \"+\"{:^{}}\".format(\"Fehler\",7))\n",
    "    print(\"{:^{}}\".format(str(0),7)+\" | \"\"{:^{}}\".format(str(math.sin(0)),7)+\" | \"+\"{:^{}}\".format(str(abs(math.sin(0)-0)),7))\n",
    "elif n>0:\n",
    "    print(\"{:^{}}\".format(\"x\",7)+\" | \"+\"{:^{}}\".format(\"sin(x)\",7)+\" | \"+\"{:^{}}\".format(\"Fehler\",7))\n",
    "    while i<=n:\n",
    "        x=-0.5+1*(i/n)\n",
    "        x_rund=round(x,4)\n",
    "        x_ausgabe=str(\"{:< 0{}}\".format(x_rund,7))\n",
    "        sinx=cmath.sin(x)\n",
    "        sinx_rund=round(sinx.real,4)\n",
    "        sinx_ausgabe=str(\"{:< 0{}}\".format(sinx_rund,7))\n",
    "        fehlerrechnen=abs(sinx-x)\n",
    "        fehler_rund=round(fehlerrechnen,4)\n",
    "        fehler_ausgabe=str(\"{:<0{}}\".format(fehler_rund,7))\n",
    "        print(x_ausgabe+\" | \"+sinx_ausgabe+\" | \"+str(fehler_ausgabe))\n",
    "        i=i+1\n",
    "elif n>0:\n",
    "    print(\"Das ist unmöglich!!!\")"
   ]
  },
  {
   "cell_type": "code",
   "execution_count": null,
   "metadata": {},
   "outputs": [],
   "source": []
  }
 ],
 "metadata": {
  "kernelspec": {
   "display_name": "Python 3",
   "language": "python",
   "name": "python3"
  },
  "language_info": {
   "codemirror_mode": {
    "name": "ipython",
    "version": 3
   },
   "file_extension": ".py",
   "mimetype": "text/x-python",
   "name": "python",
   "nbconvert_exporter": "python",
   "pygments_lexer": "ipython3",
   "version": "3.4.2"
  }
 },
 "nbformat": 4,
 "nbformat_minor": 2
}
