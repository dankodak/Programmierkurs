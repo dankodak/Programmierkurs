{
 "cells": [
  {
   "cell_type": "code",
   "execution_count": 4,
   "metadata": {},
   "outputs": [
    {
     "name": "stdout",
     "output_type": "stream",
     "text": [
      "   x |  sin(x) | Fehler\n",
      "-0.5 | -0.4794 | 0.0206\n",
      "0.5  | 0.4794  | 0.0206\n"
     ]
    }
   ],
   "source": [
    "#Aufgabe 5 Kleinwinkelnährung\n",
    "#Minh Duc Bui\n",
    "import math\n",
    "\n",
    "in1 =-0.5\n",
    "in2 = 0.5\n",
    "sinx = math.sin(in1)\n",
    "sinx2= math.sin(in2)\n",
    "sin  = round(sinx,4)\n",
    "sin2 = round(sinx2,4) \n",
    "approx  = math.fabs(sin - in1)\n",
    "approx2 = math.fabs(sin2- in2)\n",
    "approxi = round(approx,4)\n",
    "approxi2= round(approx2,4)\n",
    "print(\"   x\",\"|\",\" sin(x)\",\"|\",\"Fehler\")\n",
    "print(in1,\"|\",sin,\"|\",approxi)\n",
    "print(in2,\" |\",sin2,\" |\",approxi2)\n",
    "#Ich habe es versucht...."
   ]
  },
  {
   "cell_type": "code",
   "execution_count": 17,
   "metadata": {},
   "outputs": [
    {
     "ename": "SyntaxError",
     "evalue": "invalid syntax (<ipython-input-17-bc51153896c4>, line 3)",
     "output_type": "error",
     "traceback": [
      "\u001b[1;36m  File \u001b[1;32m\"<ipython-input-17-bc51153896c4>\"\u001b[1;36m, line \u001b[1;32m3\u001b[0m\n\u001b[1;33m    for i in range(-0.5,0.5,0.1111)\u001b[0m\n\u001b[1;37m                                   ^\u001b[0m\n\u001b[1;31mSyntaxError\u001b[0m\u001b[1;31m:\u001b[0m invalid syntax\n"
     ]
    }
   ],
   "source": [
    "import math\n",
    "\n",
    "for i in range(-0.5,0.5,0.1111)\n",
    "sinx = math.sin(i)\n",
    "sin  = round(sinx,4)\n",
    "approx = math.fabs(sin - i)\n",
    "approxi= round(approx,4)\n",
    "print(\"   x\",\"|\",\" sin(x)\",\"|\",\"Fehler\")\n",
    "print(i,\"|\",sin,\"|\",approxi)"
   ]
  },
  {
   "cell_type": "code",
   "execution_count": null,
   "metadata": {
    "collapsed": true
   },
   "outputs": [],
   "source": []
  }
 ],
 "metadata": {
  "kernelspec": {
   "display_name": "Python 3",
   "language": "python",
   "name": "python3"
  },
  "language_info": {
   "codemirror_mode": {
    "name": "ipython",
    "version": 3
   },
   "file_extension": ".py",
   "mimetype": "text/x-python",
   "name": "python",
   "nbconvert_exporter": "python",
   "pygments_lexer": "ipython3",
   "version": "3.6.2"
  }
 },
 "nbformat": 4,
 "nbformat_minor": 2
}
