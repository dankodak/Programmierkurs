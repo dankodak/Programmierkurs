{
 "cells": [
  {
   "cell_type": "code",
   "execution_count": 18,
   "metadata": {},
   "outputs": [
    {
     "name": "stdout",
     "output_type": "stream",
     "text": [
      "Zahl 13112\n",
      "Zahl 245697\n",
      "       110000101000\n",
      "+  1011001010000001\n",
      "-------------------\n",
      "=  1011111010101001\n"
     ]
    }
   ],
   "source": [
    "#Verbesserte Ausgabe für binären Addierer\n",
    "Zahl1  = 3112\n",
    "Zahl2  = 45697\n",
    "print(\"Zahl 1{0:d}\".format(Zahl1))\n",
    "print(\"Zahl 2{0:d}\".format(Zahl2))\n",
    "print(\"       {:>9b}\".format(Zahl1))\n",
    "print(\"+  {:>9b}\".format(Zahl2))\n",
    "print(\"-\"*19)\n",
    "print(\"=  {:>9b}\".format(Zahl1+Zahl2))\n",
    "\n"
   ]
  },
  {
   "cell_type": "code",
   "execution_count": null,
   "metadata": {
    "collapsed": true
   },
   "outputs": [],
   "source": []
  }
 ],
 "metadata": {
  "kernelspec": {
   "display_name": "Python 3",
   "language": "python",
   "name": "python3"
  },
  "language_info": {
   "codemirror_mode": {
    "name": "ipython",
    "version": 3
   },
   "file_extension": ".py",
   "mimetype": "text/x-python",
   "name": "python",
   "nbconvert_exporter": "python",
   "pygments_lexer": "ipython3",
   "version": "3.6.2"
  }
 },
 "nbformat": 4,
 "nbformat_minor": 2
}
