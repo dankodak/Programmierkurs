{
 "cells": [
  {
   "cell_type": "markdown",
   "metadata": {},
   "source": [
    "Aufgabe 3: Verbesserte Ausgabe für binären Addierer"
   ]
  },
  {
   "cell_type": "code",
   "execution_count": null,
   "metadata": {},
   "outputs": [],
   "source": [
    "number1 = int(input(\"Zahl 1 in Dezimalschreibweise: \"))\n",
    "number2 = int(input(\"Zahl 2 in Dezimalschreibweise: \"))\n",
    "print(\"  {:>18b}\".format(number1)) # Die Zahlen liegen zwischen 0 und 100000, d.h. das Maximum der Summe ist 200000; 200000 hat im Binärformat 18 Stellen.\n",
    "print(\"+ {:>18b}\".format(number2))\n",
    "print(\"-\"*(18+2))\n",
    "print(\"= {:>18b}\".format(number1 + number2))"
   ]
  }
 ],
 "metadata": {
  "kernelspec": {
   "display_name": "Python 3",
   "language": "python",
   "name": "python3"
  },
  "language_info": {
   "codemirror_mode": {
    "name": "ipython",
    "version": 3
   },
   "file_extension": ".py",
   "mimetype": "text/x-python",
   "name": "python",
   "nbconvert_exporter": "python",
   "pygments_lexer": "ipython3",
   "version": "3.6.3"
  }
 },
 "nbformat": 4,
 "nbformat_minor": 2
}
