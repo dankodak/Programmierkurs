{
 "cells": [
  {
   "cell_type": "code",
   "execution_count": null,
   "metadata": {},
   "outputs": [],
   "source": [
    "nummer1 = int(input(\"Erste Zahl= \"))\n",
    "nummer2 = int(input(\"Zweite Zahl= \"))\n",
    "print (\" {:>{}b}\".format(nummer1,len(bin(nummer1+nummer2)))) \n",
    "print (\"+\"\"{:>{}b}\".format(nummer2,len(bin(nummer1+nummer2))))\n",
    "print (\"-\"*(len(bin(nummer1+nummer2))+1))\n",
    "print (\"{:>{}b}\".format(nummer1+nummer2,len(bin(nummer1+nummer2))+1))\n",
    "\n"
   ]
  },
  {
   "cell_type": "code",
   "execution_count": 2,
   "metadata": {},
   "outputs": [
    {
     "data": {
      "text/plain": [
       "'0b1111'"
      ]
     },
     "execution_count": 2,
     "metadata": {},
     "output_type": "execute_result"
    }
   ],
   "source": [
    "bin(15)"
   ]
  },
  {
   "cell_type": "code",
   "execution_count": null,
   "metadata": {},
   "outputs": [],
   "source": []
  }
 ],
 "metadata": {
  "kernelspec": {
   "display_name": "Python 3",
   "language": "python",
   "name": "python3"
  },
  "language_info": {
   "codemirror_mode": {
    "name": "ipython",
    "version": 3
   },
   "file_extension": ".py",
   "mimetype": "text/x-python",
   "name": "python",
   "nbconvert_exporter": "python",
   "pygments_lexer": "ipython3",
   "version": "3.4.2"
  }
 },
 "nbformat": 4,
 "nbformat_minor": 2
}
