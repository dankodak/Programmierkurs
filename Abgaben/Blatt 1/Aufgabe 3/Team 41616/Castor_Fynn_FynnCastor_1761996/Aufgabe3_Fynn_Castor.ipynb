{
 "cells": [
  {
   "cell_type": "code",
   "execution_count": null,
   "metadata": {},
   "outputs": [],
   "source": [
    "z1=(int(input(\"Zahl1:\")))           #Eingabe der Zahlen und Umwandlun in Int \n",
    "z2=(int(input(\"Zahl2:\")))\n",
    "\n",
    "z3=z2+z1                            #Eigentlicher Rechenvorgeng\n",
    "\n",
    "length=(len(str(bin(z3))))-1          \n",
    "                                    #Bestimmung der Länge+1 von z3 als Binärzahl\n",
    "\n",
    "print(\" \")                          #Ästhetische Leerzeile\n",
    "\n",
    "print(\" {:>{}b}\".format(z1,length)) #Darstellung der Rechnung length+1 gibt hierbei die Länge des gesamten Pakets an.\n",
    "print(\"+{:>{}b}\".format(z2,length))\n",
    "print(\"-\"*(length+1))\n",
    "print(\"={:>{}b}\".format(z3,length))"
   ]
  }
 ],
 "metadata": {
  "kernelspec": {
   "display_name": "Python 3",
   "language": "python",
   "name": "python3"
  },
  "language_info": {
   "codemirror_mode": {
    "name": "ipython",
    "version": 3
   },
   "file_extension": ".py",
   "mimetype": "text/x-python",
   "name": "python",
   "nbconvert_exporter": "python",
   "pygments_lexer": "ipython3",
   "version": "3.4.2"
  }
 },
 "nbformat": 4,
 "nbformat_minor": 2
}
