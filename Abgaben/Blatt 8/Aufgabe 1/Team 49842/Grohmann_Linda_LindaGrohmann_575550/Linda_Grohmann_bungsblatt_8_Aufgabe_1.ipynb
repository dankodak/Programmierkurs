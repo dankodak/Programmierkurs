{
 "cells": [
  {
   "cell_type": "markdown",
   "metadata": {},
   "source": [
    "Aufgabe 1: Gauß-Verteilung plotten"
   ]
  },
  {
   "cell_type": "code",
   "execution_count": null,
   "metadata": {},
   "outputs": [],
   "source": [
    "import numpy as np\n",
    "import matplotlib.pyplot as plt\n",
    "\n",
    "x = np.linspace(-5, 5, 100)\n",
    "\n",
    "sigma = np.array([0.2, 1, 5, 0.5])\n",
    "mu = np.array([0, 0, 0, -2])\n",
    "\n",
    "def N(x, m, s):\n",
    "    n = (x - m)**2\n",
    "    fac = (n/(2*(s)**2))\n",
    "    exp = np.exp(-fac)\n",
    "    N = np.sqrt(2*np.pi*(s)**2)\n",
    "    \n",
    "    return(exp/N)\n",
    "    \n",
    "for i in range(4):\n",
    "    plt.plot(x, N(x, mu[i], sigma[i]), label = \"{}{}, {}{}\".format(\"sigma = \", sigma[i], \"mu = \", mu[i]))\n",
    "plt.legend()\n",
    "plt.xlabel(\"x\")\n",
    "plt.ylabel(\"N(x, sigma, mu)\")\n",
    "plt.title(\"Gauß-Verteilung\")\n",
    "plt.show()"
   ]
  }
 ],
 "metadata": {
  "kernelspec": {
   "display_name": "Python 3",
   "language": "python",
   "name": "python3"
  },
  "language_info": {
   "codemirror_mode": {
    "name": "ipython",
    "version": 3
   },
   "file_extension": ".py",
   "mimetype": "text/x-python",
   "name": "python",
   "nbconvert_exporter": "python",
   "pygments_lexer": "ipython3",
   "version": "3.6.3"
  }
 },
 "nbformat": 4,
 "nbformat_minor": 2
}
